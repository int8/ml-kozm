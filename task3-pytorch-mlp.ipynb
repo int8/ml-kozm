{
 "cells": [
  {
   "cell_type": "code",
   "execution_count": 72,
   "id": "d56ddb0b-d582-4b63-b51f-e7bb142a33cd",
   "metadata": {},
   "outputs": [],
   "source": [
    "import torch \n",
    "from torch import nn"
   ]
  },
  {
   "cell_type": "code",
   "execution_count": 73,
   "id": "dac943d5-d66d-4820-9110-ab9035cb9ec3",
   "metadata": {},
   "outputs": [],
   "source": [
    "# Tensors \n",
    "# pytorch opakowuje wielowymiarowe listy / macierze / tensory w swoją własną wewnętrzną strukturę danych Tensor \n",
    "data = [1,2,3]\n",
    "tensor = torch.tensor(data)\n"
   ]
  },
  {
   "cell_type": "code",
   "execution_count": 74,
   "id": "b05f655e-7a87-4256-a687-a11de693c3fc",
   "metadata": {},
   "outputs": [],
   "source": [
    "# TODO: utwórzy tensor o wymiarach 2x2 o wartościach 1 [https://pytorch.org/docs/stable/generated/torch.ones.html#torch-ones]\n",
    "# TODO: zapisz go do zmiennej tensor2d \n",
    "# TODO: wyświetlw jego shape \n",
    "\n",
    "# TODO: Pomnóż nasz tensor2d przez 0.5 i zapisz wynik do tensor2d"
   ]
  },
  {
   "cell_type": "code",
   "execution_count": 75,
   "id": "d528f8c6-eb00-468b-82ec-c299847f9953",
   "metadata": {},
   "outputs": [],
   "source": [
    "# TODO: Utwórz randomowy tensor 2x2 [https://pytorch.org/docs/stable/generated/torch.rand.html#torch.rand]\n",
    "# TODO: przypisz go do zmiennej rand_tensor2d\n",
    "\n",
    "# Pomnóż randomowy tensor z naszym poprzednim \"połówkowym\" tensorem "
   ]
  },
  {
   "cell_type": "code",
   "execution_count": 76,
   "id": "1feeafc2-41d1-4219-ad3e-c28bb8779a82",
   "metadata": {},
   "outputs": [],
   "source": [
    "class MultiLayerPerceptronA(nn.Module):\n",
    "    def __init__(self):\n",
    "        super().__init__()        \n",
    "        self.sigmoid = nn.Sigmoid()\n",
    "        self.linear_layer1 = nn.Linear(10, 5)\n",
    "        self.linear_layer2 = nn.Linear(5, 1)         \n",
    "        \n",
    "    def forward(self, x):        \n",
    "        x = self.linear_layer1(x) # TODO: \"przepuść\" wejściowy wektor/tensor przez pierwszą warstwę liniową \n",
    "        x = None # TODO: \"przepuść\" output warstwy liniowej przez sigmoid (aktywuj warstwę) \n",
    "        x = None # TODO: otrzymany wynik przekaż do warstwy drugiej \n",
    "        x = None # TODO: \"przepuść\" output warstwy liniowej przez sigmoid (aktywuj warstwę) \n",
    "        return x"
   ]
  },
  {
   "cell_type": "code",
   "execution_count": 77,
   "id": "e657e8b5-33b7-4cff-96e5-996daea68ff4",
   "metadata": {},
   "outputs": [],
   "source": [
    "# utwórz instancję MultiLayerPerceptronA i przypisz do zmiennej model \n",
    "model = None # TODO \n"
   ]
  },
  {
   "cell_type": "code",
   "execution_count": 78,
   "id": "953847a2-a268-409d-88cb-b7967b97c77c",
   "metadata": {},
   "outputs": [],
   "source": [
    "# TODO: utwórz randomowy tensor o długości 10 i zaaplikuj na nim metodę forward() "
   ]
  },
  {
   "cell_type": "code",
   "execution_count": 91,
   "id": "2e8f4edf-b164-4641-ab3e-801511d641b4",
   "metadata": {},
   "outputs": [],
   "source": [
    "# Alternatywną bardziej elegancką formą definiowania architektury jest użytwanie nn.Sequential \n",
    "\n",
    "class MultiLayerPerceptronB(nn.Module):\n",
    "    def __init__(self):\n",
    "        super().__init__()        \n",
    "        self.mlp = nn.Sequential(\n",
    "            nn.Linear(10, 5),\n",
    "            nn.Sigmoid(),            \n",
    "            nn.Linear(5,1),\n",
    "            nn.Sigmoid()\n",
    "        )\n",
    "        \n",
    "    def forward(self, x):        \n",
    "        return self.mlp(x)"
   ]
  },
  {
   "cell_type": "code",
   "execution_count": 92,
   "id": "53eeedb6-3ce3-47cb-84e7-e4ee7a5f959e",
   "metadata": {},
   "outputs": [],
   "source": [
    "# TODO: Utwórz MLP jak w definicji zadania korzystając z nn.Sequential \n",
    "\n",
    "class MultiLayerPerceptron(nn.Module):\n",
    "    def __init__(self):\n",
    "        super().__init__()        \n",
    "        # TODO: \n",
    "    \n",
    "    def forward(self, x):        \n",
    "        # TODO: \n",
    "        pass \n",
    "\n"
   ]
  },
  {
   "cell_type": "code",
   "execution_count": 93,
   "id": "9afb88fd-4099-497e-92b3-a23b2b6a470e",
   "metadata": {},
   "outputs": [],
   "source": [
    "# TODO: stwórz instancję modelu \n",
    "model = None \n",
    "# Utwórz randomowy tensor o długości 768 i \"przepuść\" go przez utworzony model "
   ]
  },
  {
   "cell_type": "code",
   "execution_count": 100,
   "id": "102cf339-9cfb-4cc1-92c3-d27ab6a6d06d",
   "metadata": {},
   "outputs": [],
   "source": [
    "# Parametry utworzonej sieci \n",
    "for name, param in model.named_parameters():\n",
    "    if param.requires_grad:\n",
    "        print(name)\n",
    "        print(param.data)\n",
    "        print()"
   ]
  },
  {
   "cell_type": "code",
   "execution_count": 120,
   "id": "730a08cc-16fe-4d16-81e9-e908d029a908",
   "metadata": {},
   "outputs": [],
   "source": [
    "# Nasz model z wczoraj też może być wyrażony w Pytorch - technicznie to też \"bardzo prosta\" sieć neuronowa \n",
    "\n",
    "class ToyMLModel(nn.Module):\n",
    "    def __init__(self):\n",
    "        super().__init__()        \n",
    "        self.mlp = nn.Sequential(\n",
    "            nn.Linear(2, 1, bias=False)            \n",
    "        )\n",
    "        \n",
    "    def forward(self, x):        \n",
    "        return self.mlp(x)\n",
    "\n",
    "toy = ToyMLModel()\n",
    "state_dict = toy.state_dict()\n",
    "state_dict['mlp.0.weight'] = torch.Tensor([[-12500, 22000]])\n",
    "toy.load_state_dict(state_dict);\n"
   ]
  },
  {
   "cell_type": "code",
   "execution_count": 121,
   "id": "63291a58-7dc8-4a43-8a2b-f27308f5ff04",
   "metadata": {},
   "outputs": [
    {
     "data": {
      "text/plain": [
       "tensor([975000.], grad_fn=<SqueezeBackward4>)"
      ]
     },
     "execution_count": 121,
     "metadata": {},
     "output_type": "execute_result"
    }
   ],
   "source": [
    "toy.forward(torch.Tensor([10, 50]))"
   ]
  },
  {
   "cell_type": "code",
   "execution_count": null,
   "id": "36eb044f-dc52-451c-b634-7265a95d9271",
   "metadata": {},
   "outputs": [],
   "source": []
  }
 ],
 "metadata": {
  "kernelspec": {
   "display_name": "Python 3 (ipykernel)",
   "language": "python",
   "name": "python3"
  },
  "language_info": {
   "codemirror_mode": {
    "name": "ipython",
    "version": 3
   },
   "file_extension": ".py",
   "mimetype": "text/x-python",
   "name": "python",
   "nbconvert_exporter": "python",
   "pygments_lexer": "ipython3",
   "version": "3.8.10"
  }
 },
 "nbformat": 4,
 "nbformat_minor": 5
}
