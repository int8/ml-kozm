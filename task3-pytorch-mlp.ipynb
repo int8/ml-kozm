{
 "cells": [
  {
   "cell_type": "code",
   "execution_count": 2,
   "id": "d56ddb0b-d582-4b63-b51f-e7bb142a33cd",
   "metadata": {},
   "outputs": [],
   "source": [
    "import torch \n",
    "from torch import nn"
   ]
  },
  {
   "cell_type": "code",
   "execution_count": 18,
   "id": "dac943d5-d66d-4820-9110-ab9035cb9ec3",
   "metadata": {},
   "outputs": [],
   "source": [
    "# Tensors \n",
    "# pytorch opakowuje wielowymiarowe listy / macierze / tensory w swoją własną wewnętrzną strukturę danych Tensor \n",
    "data = [1,2,3,4,5.0]\n",
    "tensor = torch.tensor(data)"
   ]
  },
  {
   "cell_type": "code",
   "execution_count": 19,
   "id": "7951214f-f9b1-4de6-8e00-723e3e09fc39",
   "metadata": {},
   "outputs": [
    {
     "data": {
      "text/plain": [
       "torch.float32"
      ]
     },
     "execution_count": 19,
     "metadata": {},
     "output_type": "execute_result"
    }
   ],
   "source": [
    "tensor.dtype"
   ]
  },
  {
   "cell_type": "code",
   "execution_count": 10,
   "id": "a2f95aca-7cfb-42ca-868f-2a326f000b68",
   "metadata": {},
   "outputs": [
    {
     "data": {
      "text/plain": [
       "5"
      ]
     },
     "execution_count": 10,
     "metadata": {},
     "output_type": "execute_result"
    }
   ],
   "source": [
    "len(tensor)"
   ]
  },
  {
   "cell_type": "code",
   "execution_count": null,
   "id": "cf30b190-15b8-426f-8511-2c1dc9f4cb79",
   "metadata": {},
   "outputs": [],
   "source": [
    "# TODO: utwórzy tensor o wymiarach 2x2 o wartościach 1 [https://pytorch.org/docs/stable/generated/torch.ones.html#torch-ones]\n",
    "torch.ones(2,2)"
   ]
  },
  {
   "cell_type": "code",
   "execution_count": 52,
   "id": "c7de1f56-6d12-4b6e-a70b-4374cbd32fa0",
   "metadata": {},
   "outputs": [],
   "source": [
    "# TODO: zapisz go do zmiennej tensor2d \n",
    "tensor2d = torch.ones(2,2)"
   ]
  },
  {
   "cell_type": "code",
   "execution_count": 53,
   "id": "2c9645c3-2164-4c57-a0a6-97677b2f4833",
   "metadata": {},
   "outputs": [
    {
     "data": {
      "text/plain": [
       "torch.Size([2, 2])"
      ]
     },
     "execution_count": 53,
     "metadata": {},
     "output_type": "execute_result"
    }
   ],
   "source": [
    "tensor2d.shape "
   ]
  },
  {
   "cell_type": "code",
   "execution_count": 54,
   "id": "759940af-b7d1-475e-92a0-d0342da6e7eb",
   "metadata": {},
   "outputs": [
    {
     "data": {
      "text/plain": [
       "2"
      ]
     },
     "execution_count": 54,
     "metadata": {},
     "output_type": "execute_result"
    }
   ],
   "source": [
    "len(tensor2d)"
   ]
  },
  {
   "cell_type": "code",
   "execution_count": 55,
   "id": "b05f655e-7a87-4256-a687-a11de693c3fc",
   "metadata": {},
   "outputs": [],
   "source": [
    "# TODO: Pomnóż nasz tensor2d przez 0.5 "
   ]
  },
  {
   "cell_type": "code",
   "execution_count": 56,
   "id": "c7f5e06b-9d26-442e-a510-bbb25a1e3703",
   "metadata": {},
   "outputs": [
    {
     "data": {
      "text/plain": [
       "tensor([[0.5000, 0.5000],\n",
       "        [0.5000, 0.5000]])"
      ]
     },
     "execution_count": 56,
     "metadata": {},
     "output_type": "execute_result"
    }
   ],
   "source": [
    "tensor2d * 0.5"
   ]
  },
  {
   "cell_type": "code",
   "execution_count": 57,
   "id": "3426a31f-af61-4107-a509-0434f6946da2",
   "metadata": {},
   "outputs": [],
   "source": [
    "# i zapisz wynik do tensor2d"
   ]
  },
  {
   "cell_type": "code",
   "execution_count": 58,
   "id": "10bdb56b-310d-4c1c-b8a1-7f593ddea017",
   "metadata": {},
   "outputs": [],
   "source": [
    "tensor2d = tensor2d * 0.5 "
   ]
  },
  {
   "cell_type": "code",
   "execution_count": 59,
   "id": "a052e972-78ca-4d7e-bef4-d0b3266f8b07",
   "metadata": {},
   "outputs": [
    {
     "data": {
      "text/plain": [
       "tensor([[0.5000, 0.5000],\n",
       "        [0.5000, 0.5000]])"
      ]
     },
     "execution_count": 59,
     "metadata": {},
     "output_type": "execute_result"
    }
   ],
   "source": [
    "tensor2d"
   ]
  },
  {
   "cell_type": "code",
   "execution_count": 75,
   "id": "d528f8c6-eb00-468b-82ec-c299847f9953",
   "metadata": {},
   "outputs": [],
   "source": [
    "# TODO: Utwórz randomowy tensor 2x2 [https://pytorch.org/docs/stable/generated/torch.rand.html#torch.rand]\n",
    "# TODO: przypisz go do zmiennej rand_tensor2d\n"
   ]
  },
  {
   "cell_type": "code",
   "execution_count": 61,
   "id": "2f8507c4-256c-4249-99df-fd32ed7003ab",
   "metadata": {},
   "outputs": [],
   "source": [
    "rand_tensor2d = torch.rand(2,2)"
   ]
  },
  {
   "cell_type": "code",
   "execution_count": 66,
   "id": "457c56da-34ef-4daa-bfb0-47347a42521b",
   "metadata": {},
   "outputs": [
    {
     "data": {
      "text/plain": [
       "tensor([[0.2354, 0.1877],\n",
       "        [0.4091, 0.9473]])"
      ]
     },
     "execution_count": 66,
     "metadata": {},
     "output_type": "execute_result"
    }
   ],
   "source": [
    "rand_tensor2d"
   ]
  },
  {
   "cell_type": "code",
   "execution_count": 64,
   "id": "a8d54d57-7854-4a3c-8e0d-b4f9f9c1f2ec",
   "metadata": {},
   "outputs": [
    {
     "data": {
      "text/plain": [
       "tensor([[0.1177, 0.0939],\n",
       "        [0.2046, 0.4736]])"
      ]
     },
     "execution_count": 64,
     "metadata": {},
     "output_type": "execute_result"
    }
   ],
   "source": [
    "# Pomnóż randomowy tensor z naszym poprzednim \"połówkowym\" tensorem \n",
    "rand_tensor2d * tensor2d"
   ]
  },
  {
   "cell_type": "code",
   "execution_count": 69,
   "id": "1feeafc2-41d1-4219-ad3e-c28bb8779a82",
   "metadata": {},
   "outputs": [],
   "source": [
    "class MultiLayerPerceptronA(nn.Module):\n",
    "    def __init__(self):\n",
    "        super().__init__()        \n",
    "        self.sigmoid = nn.Sigmoid()\n",
    "        self.linear_layer1 = nn.Linear(5, 2)\n",
    "        self.linear_layer2 = nn.Linear(2, 1)         \n",
    "        \n",
    "    def forward(self, x):        \n",
    "        x = self.linear_layer1(x) # TODO: \"przepuść\" wejściowy wektor/tensor przez pierwszą warstwę liniową \n",
    "        x = self.Sigmoid(x) # TODO: \"przepuść\" output warstwy liniowej przez sigmoid (aktywuj warstwę) \n",
    "        x = self.linear_layer2(x) # TODO: otrzymany wynik przekaż do warstwy drugiej \n",
    "        x = self.Sigmoid(x) # TODO: \"przepuść\" output warstwy liniowej przez sigmoid (aktywuj warstwę) \n",
    "        return x"
   ]
  },
  {
   "cell_type": "code",
   "execution_count": 70,
   "id": "e657e8b5-33b7-4cff-96e5-996daea68ff4",
   "metadata": {},
   "outputs": [],
   "source": [
    "# utwórz instancję MultiLayerPerceptronA i przypisz do zmiennej model \n",
    "model = MultiLayerPerceptronA()\n"
   ]
  },
  {
   "cell_type": "code",
   "execution_count": 73,
   "id": "953847a2-a268-409d-88cb-b7967b97c77c",
   "metadata": {},
   "outputs": [
    {
     "data": {
      "text/plain": [
       "tensor([0.5052], grad_fn=<SigmoidBackward0>)"
      ]
     },
     "execution_count": 73,
     "metadata": {},
     "output_type": "execute_result"
    }
   ],
   "source": [
    "# TODO: utwórz randomowy tensor o długości 5 i zaaplikuj na nim metodę forward() \n",
    "input = torch.rand(5)\n",
    "model.forward(input)"
   ]
  },
  {
   "cell_type": "code",
   "execution_count": 72,
   "id": "be9804fc-dc21-40cb-af80-7e379cd19c51",
   "metadata": {},
   "outputs": [],
   "source": []
  },
  {
   "cell_type": "code",
   "execution_count": 74,
   "id": "2e8f4edf-b164-4641-ab3e-801511d641b4",
   "metadata": {},
   "outputs": [],
   "source": [
    "# Alternatywną bardziej elegancką formą definiowania architektury jest użytwanie nn.Sequential \n",
    "\n",
    "class MultiLayerPerceptronB(nn.Module):\n",
    "    def __init__(self):\n",
    "        super().__init__()        \n",
    "        self.mlp = nn.Sequential(\n",
    "            nn.Linear(5, 2),\n",
    "            nn.Sigmoid(),            \n",
    "            nn.Linear(2, 1),\n",
    "            nn.Sigmoid()\n",
    "        )\n",
    "        \n",
    "    def forward(self, x):        \n",
    "        return self.mlp(x)"
   ]
  },
  {
   "cell_type": "code",
   "execution_count": 77,
   "id": "53eeedb6-3ce3-47cb-84e7-e4ee7a5f959e",
   "metadata": {},
   "outputs": [],
   "source": [
    "# TODO: Utwórz MLP jak w definicji zadania korzystając z nn.Sequential \n",
    "\n",
    "class MultiLayerPerceptron(nn.Module):\n",
    "    def __init__(self):\n",
    "        super().__init__()        \n",
    "        self.mlp = nn.Sequential(\n",
    "            nn.Linear(784, 50),\n",
    "            nn.Sigmoid(),\n",
    "            nn.Linear(50,15),\n",
    "            nn.Sigmoid(),\n",
    "            nn.Linear(15, 1),\n",
    "            nn.Sigmoid()\n",
    "        )\n",
    "    \n",
    "    def forward(self, x):        \n",
    "        return self.mlp(x)\n"
   ]
  },
  {
   "cell_type": "code",
   "execution_count": 78,
   "id": "9afb88fd-4099-497e-92b3-a23b2b6a470e",
   "metadata": {},
   "outputs": [
    {
     "data": {
      "text/plain": [
       "tensor([0.4977], grad_fn=<SigmoidBackward0>)"
      ]
     },
     "execution_count": 78,
     "metadata": {},
     "output_type": "execute_result"
    }
   ],
   "source": [
    "# TODO: stwórz instancję modelu \n",
    "model = MultiLayerPerceptron()\n",
    "# Utwórz randomowy tensor o długości 768 i \"przepuść\" go przez utworzony model \n",
    "input = torch.rand(784)\n",
    "model.forward(input)"
   ]
  },
  {
   "cell_type": "code",
   "execution_count": 79,
   "id": "102cf339-9cfb-4cc1-92c3-d27ab6a6d06d",
   "metadata": {},
   "outputs": [
    {
     "name": "stdout",
     "output_type": "stream",
     "text": [
      "mlp.0.weight\n",
      "tensor([[-0.0259, -0.0346,  0.0117,  ...,  0.0119, -0.0234, -0.0348],\n",
      "        [-0.0248,  0.0279,  0.0089,  ...,  0.0345, -0.0075,  0.0316],\n",
      "        [-0.0029, -0.0270, -0.0038,  ..., -0.0353,  0.0343, -0.0315],\n",
      "        ...,\n",
      "        [-0.0015, -0.0303, -0.0288,  ...,  0.0209,  0.0322,  0.0183],\n",
      "        [-0.0035, -0.0126,  0.0276,  ...,  0.0038,  0.0094, -0.0325],\n",
      "        [ 0.0012, -0.0204,  0.0247,  ...,  0.0259,  0.0177, -0.0122]])\n",
      "\n",
      "mlp.0.bias\n",
      "tensor([ 0.0084, -0.0248, -0.0208,  0.0015, -0.0092, -0.0007, -0.0174,  0.0151,\n",
      "         0.0355, -0.0060,  0.0185, -0.0096,  0.0146,  0.0161, -0.0138, -0.0264,\n",
      "         0.0318,  0.0249, -0.0324,  0.0008,  0.0090, -0.0049, -0.0306,  0.0356,\n",
      "         0.0313, -0.0068,  0.0233, -0.0128,  0.0190, -0.0333,  0.0167, -0.0169,\n",
      "        -0.0354, -0.0148, -0.0142, -0.0026,  0.0308,  0.0144,  0.0025,  0.0072,\n",
      "        -0.0118, -0.0351,  0.0279, -0.0334,  0.0353,  0.0190, -0.0083,  0.0288,\n",
      "         0.0171, -0.0357])\n",
      "\n",
      "mlp.2.weight\n",
      "tensor([[-4.3014e-02,  1.1117e-01, -4.6842e-02,  5.8929e-02,  1.2165e-01,\n",
      "          9.2699e-02, -1.2908e-01,  1.0487e-01,  3.0772e-02, -7.3483e-02,\n",
      "          6.6640e-02, -1.5980e-03, -5.4124e-02, -9.1023e-02,  1.0882e-01,\n",
      "          1.3098e-01,  2.7507e-02,  1.1838e-01, -7.1693e-02,  1.2951e-01,\n",
      "          1.1509e-01,  9.9559e-02,  1.6815e-02,  1.3644e-01, -8.6384e-02,\n",
      "         -1.1812e-01, -7.1956e-02,  1.7377e-02,  1.3622e-01, -1.4129e-01,\n",
      "         -1.2230e-01,  7.3099e-02, -1.0435e-01,  1.3270e-01,  4.6979e-03,\n",
      "          1.0479e-01,  1.2072e-02, -6.2076e-02,  7.4236e-02,  2.5227e-03,\n",
      "          2.1818e-03,  8.3241e-02,  1.2547e-01, -1.0230e-01, -2.9232e-02,\n",
      "          1.3779e-01, -6.8634e-02,  1.0195e-01, -1.1186e-03, -8.3425e-02],\n",
      "        [-1.2943e-01,  8.2694e-02,  1.0221e-01, -7.7215e-02, -1.2624e-01,\n",
      "          7.4615e-02,  1.1266e-01,  1.8309e-02,  8.8700e-02, -1.0576e-01,\n",
      "          4.3083e-03, -5.0461e-02, -1.9991e-02,  7.5790e-02,  4.0265e-02,\n",
      "          4.6223e-02,  6.4267e-02, -2.4453e-02,  8.6365e-02,  2.1619e-02,\n",
      "          9.9120e-02,  1.9978e-03, -2.7527e-02,  1.1327e-02,  1.4002e-01,\n",
      "          1.7499e-02, -4.5628e-02,  1.2432e-01,  1.2920e-01, -1.2120e-01,\n",
      "          1.0017e-01, -5.6452e-02,  9.8541e-02,  8.9540e-02, -3.1594e-02,\n",
      "          3.4878e-02,  4.4256e-02,  1.1350e-01, -9.7913e-02,  1.3934e-01,\n",
      "         -6.9971e-02,  1.3164e-01,  8.5048e-02, -4.1803e-03,  7.5466e-02,\n",
      "         -7.8809e-02,  6.4686e-02,  1.3444e-01,  6.5936e-02, -9.0257e-02],\n",
      "        [-4.5601e-02,  8.2238e-02, -8.9558e-03, -5.7636e-02,  3.4147e-02,\n",
      "         -3.7159e-02,  6.7264e-03, -1.3635e-01, -1.2908e-01, -5.6725e-03,\n",
      "          1.1772e-01,  1.2022e-01, -1.2391e-02, -4.0342e-03, -2.1465e-02,\n",
      "         -8.0700e-02, -5.0578e-02, -1.2681e-01,  1.0545e-01, -9.3823e-02,\n",
      "         -1.2022e-01,  8.0930e-02,  9.2820e-02, -8.7064e-02, -4.9714e-02,\n",
      "         -1.2320e-01,  9.3489e-02, -3.3628e-02,  1.5439e-04,  2.9511e-02,\n",
      "         -5.5360e-02,  7.2234e-02,  9.6355e-02,  1.0426e-01, -1.3380e-01,\n",
      "         -1.3142e-01,  4.2687e-02, -6.7623e-03, -1.7245e-02,  8.8050e-02,\n",
      "          8.5231e-02, -2.0310e-02, -6.3514e-02, -9.3256e-02, -1.5433e-02,\n",
      "          4.6276e-02,  2.7533e-02,  1.5571e-02, -6.8670e-02, -1.3638e-01],\n",
      "        [-6.6052e-02, -3.1007e-02,  9.0867e-02,  2.8676e-02,  7.3672e-02,\n",
      "         -1.1992e-01,  5.6547e-03, -4.6857e-02, -1.0578e-01, -1.2480e-02,\n",
      "          1.3983e-01, -1.1831e-01, -4.1356e-02, -1.4136e-01, -1.5515e-02,\n",
      "         -1.2295e-01,  8.4912e-02,  4.1399e-02, -5.6810e-02,  3.5211e-02,\n",
      "          1.3412e-01, -5.8300e-02, -2.9114e-02, -9.4218e-02,  3.3963e-02,\n",
      "          9.5509e-02, -8.5252e-02,  1.4520e-03,  2.9294e-02,  1.2247e-01,\n",
      "         -2.4758e-02,  7.8349e-02, -1.3026e-01, -3.5571e-02,  1.2282e-01,\n",
      "          2.4866e-02, -8.2489e-02, -7.3165e-02,  7.1601e-02, -6.8947e-02,\n",
      "         -1.0996e-01,  5.8259e-02, -1.1007e-02, -1.3594e-01, -1.1703e-01,\n",
      "         -9.1352e-03, -5.0181e-02, -1.3475e-01, -1.3631e-01,  6.1473e-02],\n",
      "        [ 7.5601e-02, -1.0392e-01,  4.7521e-02,  1.1215e-01, -6.8137e-02,\n",
      "         -7.6239e-02, -7.8762e-02,  3.4720e-02,  5.8810e-02, -1.3978e-01,\n",
      "          9.4715e-02, -3.5626e-02,  2.0399e-03,  1.3050e-01,  9.2563e-03,\n",
      "         -6.6648e-02, -5.2990e-02, -4.8991e-03, -1.1057e-01,  6.0300e-02,\n",
      "          7.7081e-02,  2.9142e-02, -5.9374e-02,  4.2382e-02, -1.3153e-01,\n",
      "         -6.3941e-02,  6.8039e-02,  1.2591e-01,  2.4861e-02, -8.1050e-02,\n",
      "          2.7654e-02, -9.8203e-02,  7.3845e-02, -5.1571e-02, -5.2749e-03,\n",
      "         -8.4153e-02,  1.2813e-01, -5.0397e-02,  1.3271e-01, -3.6241e-02,\n",
      "          7.0209e-02, -5.7308e-02,  7.6899e-02,  1.0429e-01,  4.6260e-02,\n",
      "          6.3809e-02, -1.3023e-01,  1.4451e-02,  5.8246e-02,  1.3068e-01],\n",
      "        [-1.2656e-02, -8.1946e-02, -1.2382e-01, -1.2224e-01,  7.6121e-02,\n",
      "          9.1236e-04, -3.8624e-02, -1.3248e-01,  8.1066e-02,  1.3072e-02,\n",
      "         -8.4169e-02,  4.4158e-02, -1.3247e-01, -3.9271e-02, -1.2376e-01,\n",
      "          4.4342e-02,  5.6161e-02,  1.0871e-01, -1.8083e-04, -3.0705e-02,\n",
      "          9.9064e-03,  6.1898e-02,  1.4039e-01,  5.8123e-02,  5.0685e-02,\n",
      "          1.0280e-01, -1.2535e-02, -1.1553e-01, -1.2579e-01,  1.2942e-01,\n",
      "          8.7959e-02, -7.4485e-02, -9.1456e-02, -7.2291e-02,  8.6247e-02,\n",
      "         -1.2488e-01, -1.3762e-01,  1.0462e-01, -3.6298e-03,  1.8389e-02,\n",
      "          5.3815e-02, -1.3768e-01, -4.8229e-03,  1.3990e-01,  1.2505e-01,\n",
      "          1.2455e-01,  5.6137e-02, -6.6832e-03,  1.3252e-01, -5.6988e-02],\n",
      "        [ 5.5526e-03, -9.0479e-02,  5.6559e-02, -8.4624e-02,  7.9461e-02,\n",
      "         -1.4111e-01,  6.6625e-02, -1.6333e-02, -8.9198e-02, -1.8557e-03,\n",
      "          9.6625e-02,  1.0094e-01,  5.6524e-02, -5.7868e-02,  2.7759e-02,\n",
      "          6.6801e-02,  7.8375e-03, -1.0086e-01,  2.0023e-02,  1.7275e-02,\n",
      "          5.0670e-02,  4.0352e-02, -3.1208e-02,  8.8190e-02, -1.1835e-01,\n",
      "         -9.5784e-02, -6.6595e-02,  5.1981e-02,  1.1658e-01,  1.3114e-01,\n",
      "         -6.5571e-02,  1.2453e-01, -9.0537e-02, -9.2546e-04, -7.7300e-02,\n",
      "          1.1139e-01,  1.1974e-01,  1.3804e-01,  1.2854e-01, -9.7619e-02,\n",
      "         -2.2329e-02, -6.4125e-02, -7.6024e-02, -1.0123e-01, -1.1358e-01,\n",
      "          1.1333e-01,  1.3692e-01,  1.9050e-02,  9.3287e-02, -4.8996e-02],\n",
      "        [ 9.6252e-02,  1.0768e-01, -2.3229e-02,  1.3014e-01, -2.9341e-02,\n",
      "          8.0625e-02,  1.9688e-02, -1.4268e-02, -2.4674e-02, -3.2381e-02,\n",
      "          8.9087e-02,  1.1589e-01, -1.2598e-01, -1.0326e-01,  7.7977e-02,\n",
      "          1.2162e-01, -8.5675e-02,  1.1315e-01,  8.1112e-03, -1.3153e-02,\n",
      "          1.1318e-01,  1.1894e-01,  2.6647e-02, -7.2142e-02, -1.3860e-01,\n",
      "         -1.0816e-01,  6.0847e-02,  1.0082e-01, -2.2433e-02, -1.3059e-01,\n",
      "         -1.1596e-01,  1.5444e-02,  7.8578e-02,  3.9444e-02, -6.4195e-02,\n",
      "         -3.0806e-02, -2.7338e-02,  1.0692e-01, -5.8191e-02, -6.2974e-02,\n",
      "          6.6489e-02, -1.0307e-01,  5.7029e-02,  1.1644e-01, -9.1323e-02,\n",
      "          1.3614e-01,  5.2747e-02,  2.7773e-02, -6.0517e-02,  2.8020e-03],\n",
      "        [-7.0730e-02, -2.4686e-02,  4.9043e-02,  5.6740e-02, -1.4031e-01,\n",
      "         -6.4382e-02, -9.9895e-02,  1.0485e-01, -4.2713e-02, -3.9451e-02,\n",
      "         -1.0604e-01, -7.1649e-03,  1.4133e-01,  9.4680e-02,  1.3308e-01,\n",
      "         -1.9871e-02, -1.0156e-01, -1.0743e-01,  1.1630e-01, -9.1467e-02,\n",
      "          8.7549e-02, -8.0586e-02, -7.7313e-02, -4.5531e-02, -6.6856e-02,\n",
      "         -7.8648e-02, -7.3700e-02,  1.1561e-01, -3.4653e-02, -1.0532e-01,\n",
      "          6.6468e-02,  9.0889e-02,  3.7335e-02, -1.0346e-02,  9.1258e-02,\n",
      "         -7.9336e-02,  9.6083e-02, -1.3640e-01, -5.4998e-02,  2.1671e-02,\n",
      "          7.2720e-02,  1.0922e-01, -5.0132e-02, -7.2052e-03, -2.4840e-02,\n",
      "          5.9824e-02, -9.1061e-02,  1.0756e-01,  6.7197e-02, -1.4085e-01],\n",
      "        [ 3.7403e-02, -7.6481e-02,  1.2861e-01, -2.2759e-03,  8.1953e-02,\n",
      "         -1.3689e-02, -2.4798e-02, -1.3986e-01, -1.5035e-02,  7.0035e-02,\n",
      "         -1.0289e-01, -4.1045e-02,  6.2915e-03,  6.0433e-02, -1.0452e-01,\n",
      "         -1.6661e-02,  1.7826e-02, -1.2563e-01,  7.3472e-02, -8.6797e-02,\n",
      "         -8.8482e-02, -6.9355e-02,  8.3320e-03, -1.3123e-01,  1.2716e-03,\n",
      "         -8.8300e-02,  5.7533e-03, -7.8446e-02, -4.9930e-02,  2.6353e-02,\n",
      "          1.1824e-02, -1.5159e-02, -4.2142e-02,  1.2580e-01,  6.3903e-02,\n",
      "          6.1358e-02,  6.3156e-02, -9.0848e-04,  8.8284e-02, -3.3840e-02,\n",
      "         -4.0877e-02,  3.4039e-02, -5.6257e-02, -1.1006e-01,  2.0455e-02,\n",
      "          1.3574e-01,  6.0053e-04,  4.3835e-02, -7.2782e-02, -6.5467e-02],\n",
      "        [-8.7583e-02,  7.9791e-04, -1.0774e-01,  1.1342e-01, -5.7453e-02,\n",
      "          1.0785e-01, -4.8061e-02, -3.9341e-02, -9.4321e-02,  5.9264e-02,\n",
      "         -6.6920e-03, -1.0524e-01,  9.7424e-02, -2.4965e-02,  5.4794e-02,\n",
      "         -4.0665e-03,  4.9359e-02, -2.5858e-02,  6.3219e-02,  3.3611e-03,\n",
      "          7.7826e-02,  7.7137e-02,  1.1562e-01,  1.3630e-01, -8.9568e-02,\n",
      "         -4.1407e-02,  6.3369e-02, -3.4827e-02, -1.2964e-02,  1.3526e-01,\n",
      "         -1.4066e-01, -1.1182e-01,  1.3974e-01,  2.2343e-02,  1.0999e-01,\n",
      "         -7.7022e-02,  4.6517e-02,  1.0838e-01, -3.7714e-02, -1.2364e-02,\n",
      "         -1.1334e-01, -1.2043e-01, -6.1294e-02, -1.0136e-01,  2.7199e-02,\n",
      "          1.6296e-02,  9.9189e-02,  9.5867e-02, -3.4056e-03, -4.0650e-02],\n",
      "        [ 1.3542e-01,  1.2982e-01,  7.2633e-02, -6.9613e-02, -3.9752e-02,\n",
      "         -1.1500e-01, -1.2219e-02,  1.9405e-02, -5.5441e-02, -5.5416e-02,\n",
      "         -2.5534e-02, -4.1658e-02,  1.0042e-01,  8.4424e-02,  4.2804e-02,\n",
      "         -3.1899e-02, -6.0257e-02, -1.2200e-01, -4.6451e-02,  5.9893e-02,\n",
      "          1.0216e-01, -6.0855e-02,  2.5877e-02, -1.1266e-02, -6.2256e-02,\n",
      "          1.1697e-01,  4.3155e-02,  6.6645e-02,  5.7414e-02, -1.1749e-01,\n",
      "          2.5660e-02, -1.2236e-01,  5.0916e-02,  1.1637e-01,  2.4671e-02,\n",
      "         -4.5631e-02, -6.7549e-03, -7.5579e-02,  1.2581e-01, -4.8432e-03,\n",
      "         -1.0379e-01,  5.0186e-02,  1.3771e-01, -9.7579e-02,  1.7276e-02,\n",
      "         -1.1224e-01, -7.2033e-02, -5.4825e-02, -3.7153e-02,  1.2464e-01],\n",
      "        [-2.2264e-02,  4.6301e-02, -8.8399e-02, -9.8386e-02,  1.2596e-01,\n",
      "         -1.0423e-01,  1.2497e-01,  6.1480e-02, -6.3937e-03,  9.6034e-02,\n",
      "          3.8488e-02,  5.9527e-03, -1.4005e-01,  6.0809e-05,  7.6805e-02,\n",
      "          7.0618e-02,  1.3936e-01,  1.2011e-01, -9.9373e-02, -2.2566e-02,\n",
      "          1.3812e-01,  1.1619e-01,  6.9747e-02, -1.0822e-01,  2.3040e-02,\n",
      "          9.1581e-02, -9.3164e-02, -9.3269e-02,  4.3061e-02, -9.1874e-02,\n",
      "          4.9340e-02,  9.8967e-02,  9.8650e-03, -1.2285e-01, -8.1724e-02,\n",
      "         -1.3997e-01,  1.3462e-01,  1.3227e-01, -2.0373e-02,  5.8477e-02,\n",
      "         -1.3892e-01,  8.3583e-02,  7.5979e-02,  5.2689e-02, -1.0664e-01,\n",
      "          1.0101e-01,  1.3071e-01, -2.2109e-02, -1.1761e-01, -7.5011e-02],\n",
      "        [-9.3481e-02,  2.1902e-02, -6.5852e-03, -3.3422e-02, -3.7645e-02,\n",
      "         -1.3471e-01, -4.4341e-02,  4.4914e-02,  9.1434e-02, -2.0922e-02,\n",
      "          8.1832e-02,  8.0629e-03,  5.9525e-02,  3.7045e-02,  5.8252e-02,\n",
      "          5.9562e-02, -9.8555e-02,  8.7522e-02, -1.3022e-01, -1.0448e-01,\n",
      "         -5.1304e-02, -1.9983e-02, -4.1106e-02,  3.9745e-02, -1.3575e-01,\n",
      "         -2.3633e-02, -1.5766e-02, -4.2832e-02, -1.0334e-01, -5.5028e-03,\n",
      "         -2.3399e-02,  1.3407e-01, -7.4016e-02,  1.3264e-01,  9.5161e-02,\n",
      "         -1.1824e-02,  3.8477e-02, -1.0998e-01, -6.9343e-02,  6.9999e-02,\n",
      "         -1.1204e-01,  1.2923e-01, -2.4340e-02,  1.5253e-02,  1.7816e-02,\n",
      "          5.4370e-02, -1.1833e-01, -8.0034e-02,  5.7976e-02, -3.7890e-02],\n",
      "        [-2.6305e-02,  5.5180e-02, -7.7358e-02,  1.2274e-01, -9.1903e-03,\n",
      "         -1.0612e-01,  7.4349e-02, -5.4487e-02, -1.0486e-01, -1.6155e-02,\n",
      "          1.1299e-01, -1.3380e-01, -2.7786e-02,  1.2986e-01, -5.1288e-02,\n",
      "         -5.6701e-02, -5.6430e-02,  1.2179e-01,  9.5080e-02,  6.0607e-02,\n",
      "         -9.8566e-02, -1.2734e-01, -7.6210e-02, -3.0272e-02, -1.0194e-01,\n",
      "         -1.2433e-01, -6.3159e-02, -6.2252e-02,  4.3082e-02, -4.8683e-02,\n",
      "          9.5725e-02,  1.1264e-01,  1.0937e-01, -2.9708e-02, -1.2752e-03,\n",
      "          6.4462e-02,  1.3616e-01, -9.9796e-02, -1.1707e-01, -9.7548e-02,\n",
      "         -1.9007e-02,  4.8226e-02,  3.8117e-02,  1.3429e-01, -4.5796e-02,\n",
      "          6.7415e-03, -7.4582e-02,  1.2272e-01,  5.9956e-03,  6.1541e-02]])\n",
      "\n",
      "mlp.2.bias\n",
      "tensor([ 0.0191,  0.0530, -0.0515, -0.0118,  0.0431, -0.0858, -0.0399, -0.0367,\n",
      "         0.0869,  0.0990,  0.1400, -0.0484, -0.0700,  0.0316,  0.0603])\n",
      "\n",
      "mlp.4.weight\n",
      "tensor([[-0.0907,  0.0614, -0.0164,  0.0454,  0.1664,  0.1291,  0.1049, -0.1940,\n",
      "         -0.2479,  0.0773,  0.1415,  0.2043, -0.2572,  0.0244, -0.1164]])\n",
      "\n",
      "mlp.4.bias\n",
      "tensor([-0.0127])\n",
      "\n"
     ]
    }
   ],
   "source": [
    "# Parametry utworzonej sieci \n",
    "for name, param in model.named_parameters():\n",
    "    if param.requires_grad:\n",
    "        print(name)\n",
    "        print(param.data)\n",
    "        print()"
   ]
  },
  {
   "cell_type": "code",
   "execution_count": 82,
   "id": "730a08cc-16fe-4d16-81e9-e908d029a908",
   "metadata": {},
   "outputs": [],
   "source": [
    "# Nasz model z wczoraj też może być wyrażony w Pytorch - technicznie to też \"bardzo prosta\" sieć neuronowa \n",
    "\n",
    "class ToyMLModel(nn.Module):\n",
    "    def __init__(self):\n",
    "        super().__init__()        \n",
    "        self.mlp = nn.Sequential(\n",
    "            nn.Linear(2, 1, bias=False)            \n",
    "        )\n",
    "        \n",
    "    def forward(self, x):        \n",
    "        return self.mlp(x)\n",
    "\n",
    "toy = ToyMLModel()\n",
    "state_dict = toy.state_dict()\n",
    "state_dict['mlp.0.weight'] = torch.Tensor([[-12500, 24000]])\n",
    "toy.load_state_dict(state_dict);\n"
   ]
  },
  {
   "cell_type": "code",
   "execution_count": 83,
   "id": "63291a58-7dc8-4a43-8a2b-f27308f5ff04",
   "metadata": {},
   "outputs": [
    {
     "data": {
      "text/plain": [
       "tensor([1075000.], grad_fn=<SqueezeBackward4>)"
      ]
     },
     "execution_count": 83,
     "metadata": {},
     "output_type": "execute_result"
    }
   ],
   "source": [
    "toy.forward(torch.Tensor([10, 50]))"
   ]
  },
  {
   "cell_type": "code",
   "execution_count": null,
   "id": "36eb044f-dc52-451c-b634-7265a95d9271",
   "metadata": {},
   "outputs": [],
   "source": []
  }
 ],
 "metadata": {
  "kernelspec": {
   "display_name": "Python 3 (ipykernel)",
   "language": "python",
   "name": "python3"
  },
  "language_info": {
   "codemirror_mode": {
    "name": "ipython",
    "version": 3
   },
   "file_extension": ".py",
   "mimetype": "text/x-python",
   "name": "python",
   "nbconvert_exporter": "python",
   "pygments_lexer": "ipython3",
   "version": "3.8.10"
  }
 },
 "nbformat": 4,
 "nbformat_minor": 5
}
