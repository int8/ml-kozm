{
 "cells": [
  {
   "cell_type": "code",
   "execution_count": 26,
   "id": "f11ddea3-6e17-424b-8d29-ab186890c95e",
   "metadata": {},
   "outputs": [],
   "source": [
    "import os\n",
    "from tqdm.notebook import tqdm \n",
    "import random \n",
    "TWOJ_KOD_TUTAJ = None "
   ]
  },
  {
   "cell_type": "code",
   "execution_count": 27,
   "id": "6ac510a3-f782-4a3f-b059-6cdf31edd401",
   "metadata": {},
   "outputs": [],
   "source": [
    "plasmodium_directory = \"/home/kamil/Downloads/plasmodium-phonecamera/\"\n",
    "jpg_filenames = [f for f in os.listdir(plasmodium_directory) if f.endswith(\"jpg\")]\n",
    "# TODO: \"przetasuj\" (shuffle) listę filenames [random.shuffle] \n",
    "random.shuffle(jpg_filenames) # TWOJ_KOD_TUTAJ"
   ]
  },
  {
   "cell_type": "code",
   "execution_count": 29,
   "id": "130217b5-2458-4ccb-8930-ecc0e6958f72",
   "metadata": {},
   "outputs": [],
   "source": [
    "# TODO: ile plików znajduje się w datasecie ? \n",
    "total_nr_of_files = len(jpg_filenames)\n",
    "\n",
    "# TODO: potrzebujemy 15% plików w test set \n",
    "nr_of_files_to_keep = int(15/100. * total_nr_of_files) # TWOJ_KOD_TUTAJ "
   ]
  },
  {
   "cell_type": "code",
   "execution_count": 30,
   "id": "394c1551-aabb-474f-97c8-950721e4613d",
   "metadata": {},
   "outputs": [],
   "source": [
    "# TODO podziel pliki na treningowe i testowe w proporcjach 85% 15% \n",
    "train_jpg_filenames, test_jpg_filenames = jpg_filenames[:nr_of_files_to_keep], jpg_filenames[nr_of_files_to_keep:]\n"
   ]
  },
  {
   "cell_type": "code",
   "execution_count": 33,
   "id": "5b39f2b3-2386-4899-b776-8ab93ec765d6",
   "metadata": {},
   "outputs": [],
   "source": [
    "\n",
    "train_dir_path = os.path.join(pladmodium_directory, \"train\")\n",
    "os.makedirs(train_dir_path, exist_ok=True)\n",
    "\n",
    "test_dir_path = os.path.join(pladmodium_directory, \"test\")\n",
    "os.makedirs(test_dir_path, exist_ok=True)"
   ]
  },
  {
   "cell_type": "code",
   "execution_count": 41,
   "id": "98f05b44-a4af-4e7d-b001-bbadeeea747a",
   "metadata": {},
   "outputs": [],
   "source": [
    "import shutil \n",
    "def copy_plasmodium_data(source_dir, jpg_filenames, target_dir):\n",
    "    for f in tqdm(filenames, desc=f\"copying files...\"):\n",
    "        absolute_jpg_filepath_source = os.path.join(source_dir, f)\n",
    "        absolute_jpg_filepath_target = os.path.join(target_dir, f)\n",
    "\n",
    "        absolute_xml_filepath_source = absolute_jpg_filepath_source.replace(\".jpg\", \".xml\")\n",
    "        absolute_xml_filepath_target = absolute_jpg_filepath_target.replace(\".jpg\", \".xml\")\n",
    "        shutil.copy(absolute_jpg_filepath_source, absolute_jpg_filepath_target)\n",
    "        shutil.copy(absolute_xml_filepath_source, absolute_xml_filepath_target)\n",
    "        \n",
    "        "
   ]
  },
  {
   "cell_type": "code",
   "execution_count": 43,
   "id": "51c21dce-630e-471b-b798-60c35ca5daca",
   "metadata": {},
   "outputs": [
    {
     "data": {
      "application/vnd.jupyter.widget-view+json": {
       "model_id": "2440e09ad206499eb98e2acd58e96588",
       "version_major": 2,
       "version_minor": 0
      },
      "text/plain": [
       "copying files...:   0%|          | 0/1182 [00:00<?, ?it/s]"
      ]
     },
     "metadata": {},
     "output_type": "display_data"
    },
    {
     "data": {
      "application/vnd.jupyter.widget-view+json": {
       "model_id": "35851327b01840f8b8f3f09aa62e0848",
       "version_major": 2,
       "version_minor": 0
      },
      "text/plain": [
       "copying files...:   0%|          | 0/1182 [00:00<?, ?it/s]"
      ]
     },
     "metadata": {},
     "output_type": "display_data"
    }
   ],
   "source": [
    "copy_plasmodium_data(pladmodium_directory, train_filenames, train_dir_path)\n",
    "copy_plasmodium_data(pladmodium_directory, test_filenames, test_dir_path)"
   ]
  }
 ],
 "metadata": {
  "kernelspec": {
   "display_name": "Python 3 (ipykernel)",
   "language": "python",
   "name": "python3"
  },
  "language_info": {
   "codemirror_mode": {
    "name": "ipython",
    "version": 3
   },
   "file_extension": ".py",
   "mimetype": "text/x-python",
   "name": "python",
   "nbconvert_exporter": "python",
   "pygments_lexer": "ipython3",
   "version": "3.8.10"
  }
 },
 "nbformat": 4,
 "nbformat_minor": 5
}
