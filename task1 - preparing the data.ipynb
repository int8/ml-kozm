{
 "cells": [
  {
   "cell_type": "code",
   "execution_count": null,
   "id": "21bad2e4-d0eb-4e6d-9c2e-876a1770da86",
   "metadata": {},
   "outputs": [],
   "source": [
    "# 1. load `sales-not-clean.csv' file into a dataframe referenced as variable 'sales' [use pandas]\n",
    "import pandas as pd \n"
   ]
  },
  {
   "cell_type": "code",
   "execution_count": null,
   "id": "a422dc05-ab5f-4ec3-9e7f-06215d7c870b",
   "metadata": {},
   "outputs": [],
   "source": [
    "# 2. visually examine head of the dataframe \n"
   ]
  },
  {
   "cell_type": "code",
   "execution_count": null,
   "id": "662261a3-1cbe-47d9-b585-90b217f2cb4b",
   "metadata": {},
   "outputs": [],
   "source": [
    "# 3. rzućmy okiem na dystrubucje zmiennej 'Social Media'\n",
    "# TODO \n",
    "\n",
    "# Widzisz coś interesującego?"
   ]
  },
  {
   "cell_type": "code",
   "execution_count": null,
   "id": "c595e5ae-8fbd-489d-ba27-844cc9da24d2",
   "metadata": {},
   "outputs": [],
   "source": [
    "# 4. rzućmy okiem na dystrubucje zmiennych TV / Radio i Sales \n",
    "\n",
    "# TV:\n",
    "# TODO\n",
    "\n",
    "# Widzisz coś interesującego?"
   ]
  },
  {
   "cell_type": "code",
   "execution_count": null,
   "id": "23ee8ff6-7ee2-4975-a737-e86145c33960",
   "metadata": {},
   "outputs": [],
   "source": [
    "# Radio:\n",
    "#TODO \n",
    "\n",
    "# Widzisz coś interesującego?"
   ]
  },
  {
   "cell_type": "code",
   "execution_count": null,
   "id": "53580aa5-fe81-48ff-8e99-abe38f00376c",
   "metadata": {},
   "outputs": [],
   "source": [
    "# Sales: \n",
    "# TODO \n",
    "\n",
    "# Widzisz coś interesującego?"
   ]
  },
  {
   "cell_type": "code",
   "execution_count": null,
   "id": "cfe6bb05-f426-4794-b777-082d6dfc0c97",
   "metadata": {},
   "outputs": [],
   "source": [
    "# 5. Wyliczmy wszystkie unikalne wartości kolumny \"Influencer\" \n",
    "# TODO \n",
    "\n",
    "# Widzisz coś interesującego?"
   ]
  },
  {
   "cell_type": "code",
   "execution_count": null,
   "id": "f4e38c7b-21ea-489f-8fae-349706032186",
   "metadata": {},
   "outputs": [],
   "source": [
    "# 6. Szukamy dalej \n",
    "# [https://pandas.pydata.org/docs/reference/api/pandas.DataFrame.isna.html]\n",
    "# [https://pandas.pydata.org/docs/reference/api/pandas.DataFrame.any.html]\n",
    "\n",
    "# TODO \n"
   ]
  },
  {
   "cell_type": "code",
   "execution_count": null,
   "id": "87b423ff-f0d6-4dcc-aab9-cdb784be42ba",
   "metadata": {},
   "outputs": [],
   "source": [
    "# 7. Pozbądźmy się znalezionych anomalii "
   ]
  },
  {
   "cell_type": "code",
   "execution_count": null,
   "id": "0a718203-2fb5-4dd4-9979-80366b23cc2f",
   "metadata": {},
   "outputs": [],
   "source": [
    "# 8. zmapujemy kategoryczną zmienną Influencer do wartości numerycznej [Nano = 1, Micro = 2, Macro = 3, Mega = 4]\n"
   ]
  },
  {
   "cell_type": "code",
   "execution_count": null,
   "id": "f938020d-6c65-4837-8468-8bfc5bbdfd8b",
   "metadata": {},
   "outputs": [],
   "source": [
    "# 9. Zapiszmy wynikowy dataframe jako \"sales.csv\""
   ]
  },
  {
   "cell_type": "code",
   "execution_count": null,
   "id": "4c52ac7c-eb86-44c7-8870-aa84cafd1156",
   "metadata": {},
   "outputs": [],
   "source": []
  }
 ],
 "metadata": {
  "kernelspec": {
   "display_name": "Python 3 (ipykernel)",
   "language": "python",
   "name": "python3"
  },
  "language_info": {
   "codemirror_mode": {
    "name": "ipython",
    "version": 3
   },
   "file_extension": ".py",
   "mimetype": "text/x-python",
   "name": "python",
   "nbconvert_exporter": "python",
   "pygments_lexer": "ipython3",
   "version": "3.8.10"
  }
 },
 "nbformat": 4,
 "nbformat_minor": 5
}
