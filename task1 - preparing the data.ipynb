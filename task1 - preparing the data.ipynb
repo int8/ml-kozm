{
 "cells": [
  {
   "cell_type": "code",
   "execution_count": 56,
   "id": "21bad2e4-d0eb-4e6d-9c2e-876a1770da86",
   "metadata": {},
   "outputs": [
    {
     "data": {
      "text/plain": [
       "array(['Macro', 'Mega', 'Micro', 'Nano', nan], dtype=object)"
      ]
     },
     "execution_count": 56,
     "metadata": {},
     "output_type": "execute_result"
    }
   ],
   "source": [
    "# 1. load `sales-not-clean.csv' file into a dataframe referenced as variable 'sales' [use pandas]\n",
    "import pandas as pd \n"
   ]
  },
  {
   "cell_type": "code",
   "execution_count": 48,
   "id": "a422dc05-ab5f-4ec3-9e7f-06215d7c870b",
   "metadata": {},
   "outputs": [],
   "source": [
    "# 2. visually examine head of the dataframe \n"
   ]
  },
  {
   "cell_type": "code",
   "execution_count": 49,
   "id": "662261a3-1cbe-47d9-b585-90b217f2cb4b",
   "metadata": {},
   "outputs": [],
   "source": [
    "# 3. plot distribution of \"Social Media\" column (use hist() method of a dataframe, play with bins parameter) \n",
    "\n",
    "# Social Media\n",
    "# YOUR CODE STARTS HERE \n",
    "\n",
    "# YOUR CODE ENDS HERE \n",
    "\n",
    "# Is there anything strange you see ? "
   ]
  },
  {
   "cell_type": "code",
   "execution_count": 50,
   "id": "c595e5ae-8fbd-489d-ba27-844cc9da24d2",
   "metadata": {},
   "outputs": [],
   "source": [
    "# 4. Plot distributions for TV / Radio / Sales \n",
    "\n",
    "# TV:\n",
    "# YOUR CODE STARTS HERE \n",
    "\n",
    "# YOUR CODE ENDS HERE \n",
    "\n",
    "# Is there anything strange you see ? "
   ]
  },
  {
   "cell_type": "code",
   "execution_count": 51,
   "id": "23ee8ff6-7ee2-4975-a737-e86145c33960",
   "metadata": {},
   "outputs": [],
   "source": [
    "# Radio:\n",
    "# YOUR CODE STARTS HERE \n",
    "\n",
    "# YOUR CODE ENDS HERE \n",
    "\n",
    "# Is there anything strange you see ? "
   ]
  },
  {
   "cell_type": "code",
   "execution_count": 52,
   "id": "53580aa5-fe81-48ff-8e99-abe38f00376c",
   "metadata": {},
   "outputs": [],
   "source": [
    "# Sales: \n",
    "# YOUR CODE STARTS HERE \n",
    "\n",
    "# YOUR CODE ENDS HERE \n",
    "\n",
    "# Is there anything strange you see ? "
   ]
  },
  {
   "cell_type": "code",
   "execution_count": 57,
   "id": "cfe6bb05-f426-4794-b777-082d6dfc0c97",
   "metadata": {},
   "outputs": [],
   "source": [
    "# 5. list all unique values of Influencer column \n",
    "\n",
    "# YOUR CODE STARTS HERE \n",
    "\n",
    "# YOUR CODE ENDS HERE \n",
    "\n",
    "# Is there anything interesting here? "
   ]
  },
  {
   "cell_type": "code",
   "execution_count": null,
   "id": "f4e38c7b-21ea-489f-8fae-349706032186",
   "metadata": {},
   "outputs": [],
   "source": [
    "# 6. Investigate the anomalies you found \n",
    "# your friends: \n",
    "# https://pandas.pydata.org/docs/reference/api/pandas.DataFrame.isna.html\n",
    "# https://pandas.pydata.org/docs/reference/api/pandas.DataFrame.any.html \n",
    "\n",
    "# YOUR CODE STARTS HERE \n",
    "\n",
    "# YOUR CODE ENDS HERE "
   ]
  },
  {
   "cell_type": "code",
   "execution_count": 58,
   "id": "87b423ff-f0d6-4dcc-aab9-cdb784be42ba",
   "metadata": {},
   "outputs": [],
   "source": [
    "# 7. remove problematic data from the dataset "
   ]
  },
  {
   "cell_type": "code",
   "execution_count": null,
   "id": "f938020d-6c65-4837-8468-8bfc5bbdfd8b",
   "metadata": {},
   "outputs": [],
   "source": []
  },
  {
   "cell_type": "code",
   "execution_count": null,
   "id": "e13631e6-76e8-40db-a920-8ebeb72f21b6",
   "metadata": {},
   "outputs": [],
   "source": []
  }
 ],
 "metadata": {
  "kernelspec": {
   "display_name": "Python 3 (ipykernel)",
   "language": "python",
   "name": "python3"
  },
  "language_info": {
   "codemirror_mode": {
    "name": "ipython",
    "version": 3
   },
   "file_extension": ".py",
   "mimetype": "text/x-python",
   "name": "python",
   "nbconvert_exporter": "python",
   "pygments_lexer": "ipython3",
   "version": "3.8.10"
  }
 },
 "nbformat": 4,
 "nbformat_minor": 5
}
