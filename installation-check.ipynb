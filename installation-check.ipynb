{
 "cells": [
  {
   "cell_type": "code",
   "execution_count": 13,
   "id": "75a9031d-6d01-4e64-9bd7-73e3a6bb396a",
   "metadata": {},
   "outputs": [],
   "source": [
    "import pandas as pd \n",
    "assert pd.__version__ == '2.0.3'"
   ]
  },
  {
   "cell_type": "code",
   "execution_count": 14,
   "id": "68dbc087-4c70-4cc2-b233-9a1ae108609a",
   "metadata": {},
   "outputs": [],
   "source": [
    "import transformers \n",
    "assert transformers.__version__ == '4.37.2'"
   ]
  },
  {
   "cell_type": "code",
   "execution_count": 15,
   "id": "a8cdc638-499a-4d8f-89f1-640bb9ed74eb",
   "metadata": {},
   "outputs": [],
   "source": [
    "import datasets \n",
    "assert datasets.__version__ == '2.17.1'"
   ]
  },
  {
   "cell_type": "code",
   "execution_count": 19,
   "id": "11e628b7-4195-4170-819c-73e4fe1f6360",
   "metadata": {},
   "outputs": [],
   "source": [
    "import torch  \n",
    "assert torch.__version__.startswith('2.2.0')"
   ]
  },
  {
   "cell_type": "code",
   "execution_count": 103,
   "id": "479795ec-afa6-48b6-8923-a89dc6d334db",
   "metadata": {},
   "outputs": [
    {
     "name": "stdout",
     "output_type": "stream",
     "text": [
      "network topology: Multiplier(\n",
      "  (output): Linear(in_features=1, out_features=1, bias=True)\n",
      ")\n",
      "16.0\n"
     ]
    }
   ],
   "source": [
    "# run the following torch hello world code \n",
    "import torch\n",
    "import torch.nn as nn\n",
    "import torch.optim as optim\n",
    "\n",
    "\n",
    "class Multiplier(nn.Module):\n",
    "    def __init__(self):\n",
    "        super(Multiplier, self).__init__()\n",
    "        self.output = nn.Linear(1, 1)\n",
    "        self.output.weight = torch.nn.Parameter(torch.tensor([[2.]]))        \n",
    "        self.output.bias = torch.nn.Parameter(torch.tensor([0.0]))\n",
    "        \n",
    "    def forward(self, x):        \n",
    "        return self.output(x)\n",
    "\n",
    "multiplier = Multiplier()\n",
    "print(f\"network topology: {multiplier}\")\n",
    "\n",
    "\n",
    "input_data = torch.tensor([8.])\n",
    "output = multiplier(input_data)\n",
    "print(output.detach().numpy()[0])\n"
   ]
  },
  {
   "cell_type": "code",
   "execution_count": 93,
   "id": "670ce7fd-b830-4263-8115-e8ef5c28cdf9",
   "metadata": {},
   "outputs": [],
   "source": [
    "sales = pd.read_csv(\"sales-not-clean.csv\")"
   ]
  },
  {
   "cell_type": "code",
   "execution_count": 104,
   "id": "de3e5751-7834-49aa-b9a5-d3e7f5d2a4f9",
   "metadata": {},
   "outputs": [],
   "source": [
    "assert len(sales) == 4577"
   ]
  },
  {
   "cell_type": "code",
   "execution_count": 105,
   "id": "34760b3e-7a70-440c-b67c-950b4e422ba6",
   "metadata": {},
   "outputs": [],
   "source": [
    "assert all(sales.columns == ['TV', 'Radio', 'Social Media', 'Influencer', 'Sales'])"
   ]
  },
  {
   "cell_type": "code",
   "execution_count": null,
   "id": "3ea3e2ea-b2e1-4e42-9c98-725211c6312c",
   "metadata": {},
   "outputs": [],
   "source": []
  }
 ],
 "metadata": {
  "kernelspec": {
   "display_name": "Python 3 (ipykernel)",
   "language": "python",
   "name": "python3"
  },
  "language_info": {
   "codemirror_mode": {
    "name": "ipython",
    "version": 3
   },
   "file_extension": ".py",
   "mimetype": "text/x-python",
   "name": "python",
   "nbconvert_exporter": "python",
   "pygments_lexer": "ipython3",
   "version": "3.8.10"
  }
 },
 "nbformat": 4,
 "nbformat_minor": 5
}
