{
 "cells": [
  {
   "cell_type": "code",
   "execution_count": 3,
   "id": "d56ddb0b-d582-4b63-b51f-e7bb142a33cd",
   "metadata": {},
   "outputs": [],
   "source": [
    "import torch \n",
    "from torch import nn"
   ]
  },
  {
   "cell_type": "code",
   "execution_count": 6,
   "id": "dac943d5-d66d-4820-9110-ab9035cb9ec3",
   "metadata": {},
   "outputs": [],
   "source": [
    "class MultiLayerPerceptron(nn.Module):\n",
    "    def __init__(self):\n",
    "        super().__init__()        \n",
    "        self.mlp = nn.Sequential(\n",
    "            nn.Linear(28 * 28, 250),\n",
    "            nn.ReLU(),          \n",
    "            nn.Linear(250, 15),\n",
    "            nn.ReLU(),     \n",
    "            nn.Linear(15,1),\n",
    "            nn.Sigmoid()\n",
    "        )\n",
    "        \n",
    "    def forward(self, x):        \n",
    "        return self.mlp(x)"
   ]
  },
  {
   "cell_type": "code",
   "execution_count": 351,
   "id": "36eb044f-dc52-451c-b634-7265a95d9271",
   "metadata": {},
   "outputs": [
    {
     "name": "stdout",
     "output_type": "stream",
     "text": [
      "Downloading train-images-idx3-ubyte.gz...\n",
      "Downloading t10k-images-idx3-ubyte.gz...\n",
      "Downloading train-labels-idx1-ubyte.gz...\n",
      "Downloading t10k-labels-idx1-ubyte.gz...\n",
      "Download complete.\n",
      "Save complete.\n"
     ]
    }
   ],
   "source": [
    "import numpy as np\n",
    "from urllib import request\n",
    "import gzip\n",
    "import pickle\n",
    "\n",
    "import random \n",
    "def shuffle_data(x, y):\n",
    "    c = list(zip(x, y))\n",
    "    random.shuffle(c)\n",
    "    return zip(*c)\n",
    "\n",
    "filename = [\n",
    "    [\"training_images\",\"train-images-idx3-ubyte.gz\"],\n",
    "    [\"test_images\",\"t10k-images-idx3-ubyte.gz\"],\n",
    "    [\"training_labels\",\"train-labels-idx1-ubyte.gz\"],\n",
    "    [\"test_labels\",\"t10k-labels-idx1-ubyte.gz\"]\n",
    "]\n",
    "\n",
    "def download_mnist():\n",
    "    base_url = \"http://yann.lecun.com/exdb/mnist/\"\n",
    "    for name in filename:\n",
    "        print(\"Downloading \"+name[1]+\"...\")\n",
    "        request.urlretrieve(base_url+name[1], name[1])\n",
    "    print(\"Download complete.\")\n",
    "\n",
    "def save_mnist():\n",
    "    mnist = {}\n",
    "    for name in filename[:2]:\n",
    "        with gzip.open(name[1], 'rb') as f:\n",
    "            mnist[name[0]] = np.frombuffer(f.read(), np.uint8, offset=16).reshape(-1,28*28)\n",
    "    for name in filename[-2:]:\n",
    "        with gzip.open(name[1], 'rb') as f:\n",
    "            mnist[name[0]] = np.frombuffer(f.read(), np.uint8, offset=8)\n",
    "    with open(\"mnist.pkl\", 'wb') as f:\n",
    "        pickle.dump(mnist,f)\n",
    "    print(\"Save complete.\")\n",
    "    \n",
    "def init():\n",
    "    download_mnist()\n",
    "    save_mnist()\n",
    "    \n",
    "def normalize(x):\n",
    "    mean_val = np.mean(x)\n",
    "    stdev_val = np.std(x)\n",
    "    return (x - mean_val) / stdev_val\n",
    "\n",
    "def load(n = 5000):\n",
    "    with open(\"mnist.pkl\",'rb') as f:\n",
    "        mnist = pickle.load(f)\n",
    "    return (\n",
    "        normalize(preprocess(mnist[\"training_images\"][:n]  / 255.)), \n",
    "        [x[0] for x in preprocess(mnist[\"training_labels\"][:n])], \n",
    "        normalize(preprocess(mnist[\"test_images\"][:n]  / 255.)), \n",
    "        [x[0] for x in preprocess(mnist[\"test_labels\"][:n])]\n",
    "    )\n",
    "\n",
    "init()"
   ]
  },
  {
   "cell_type": "code",
   "execution_count": 352,
   "id": "82354b34-9f9f-47cd-9673-4dca3827f22c",
   "metadata": {},
   "outputs": [],
   "source": [
    "x_train, y_train, x_test, y_test = load()\n",
    "x_train, y_train = zip(*[x for x in list(zip(x_train, y_train)) if x[1] == 5 or (random.random() < 0.12)])\n",
    "x_test, y_test = zip(*[x for x in list(zip(x_test, y_test)) if x[1] == 5 or (random.random() < 0.12)])"
   ]
  },
  {
   "cell_type": "code",
   "execution_count": 358,
   "id": "8a3e8141-7224-4f43-ac99-09f36a14472d",
   "metadata": {},
   "outputs": [],
   "source": [
    "# Wczytaj dane powyżej "
   ]
  },
  {
   "cell_type": "code",
   "execution_count": 359,
   "id": "a435e974-002b-499d-8de9-c6458fa6c076",
   "metadata": {},
   "outputs": [],
   "source": [
    "# TODO: \n",
    "# ile elementów zawiera x_train, x_test "
   ]
  },
  {
   "cell_type": "code",
   "execution_count": 361,
   "id": "e71cc7d1-f8d0-4405-8121-f6b7336399ce",
   "metadata": {},
   "outputs": [],
   "source": [
    "# TODO: \n",
    "# jaką długość mają wektory w x_train, x_test, zbadaj elementy o indeksie 0 "
   ]
  },
  {
   "cell_type": "code",
   "execution_count": null,
   "id": "1947e8e5-ac6e-4342-8680-ea078f3b2327",
   "metadata": {},
   "outputs": [],
   "source": [
    "# TODO: \n",
    "# Zmień rozmiar przykładowego wektora na 28x28 i przypisz do zmiennej img \n",
    "\n",
    "from matplotlib import pyplot as plt \n",
    "# TODO: pokaż jak wygląda img [https://matplotlib.org/stable/api/_as_gen/matplotlib.pyplot.imshow.html]\n"
   ]
  },
  {
   "cell_type": "code",
   "execution_count": 365,
   "id": "fae1ba13-8449-4110-8fa2-6ec3c94f84b9",
   "metadata": {},
   "outputs": [],
   "source": [
    "# TODO: napisz funkcję która dla wejściowej listy etykiet zwraca jego binarny odpowiednik  \n",
    "# dla każdego elementu w wejściowej liście sprawdź czy jest to \"5\" - jeśli tak przypisz jej wartość \"1\" w przeciwnym razie przypisz \"0\"\n",
    "\n",
    "def binarize(y):\n",
    "    # TODO:     "
   ]
  },
  {
   "cell_type": "code",
   "execution_count": 366,
   "id": "bc451cd2-eb0d-46e9-908b-c397d2c5895d",
   "metadata": {},
   "outputs": [],
   "source": [
    "# TODO: zbinaryzuj y_train i y_test i zapisz do y_train_bin i y_test_bin \n",
    "y_train_bin = None # TODO \n",
    "y_test_bin = None # TODO "
   ]
  },
  {
   "cell_type": "code",
   "execution_count": 390,
   "id": "38666c32-eeb2-4930-bb7e-941fc799a9ec",
   "metadata": {},
   "outputs": [],
   "source": [
    "# training loop \n",
    "\n",
    "model = MultiLayerPerceptron()\n",
    "bce_loss = None # TODO: https://pytorch.org/docs/stable/generated/torch.nn.BCELoss.html\n",
    "losses = []\n",
    "batch_size = 16\n",
    "adam_optimizer = None #TODO: https://pytorch.org/docs/stable/generated/torch.optim.Adam.html\n",
    "nr_of_epochs = 5 \n",
    "losses = []\n",
    "for epoch in range(nr_of_epochs):\n",
    "    print(f\"Starting {epoch=}\")\n",
    "    print(f\"Shuffling data\")\n",
    "    x, y = shuffle_data(x_train,y_train_bin)\n",
    "    current_index = 0 \n",
    "    while current_index < len(x_train):\n",
    "        batch_x = None # TODO  \n",
    "        batch_y = None # TODO \n",
    "    \n",
    "        tensor_batch_x = torch.Tensor(batch_x)\n",
    "        tensor_batch_y = torch.Tensor(batch_y).reshape(-1, 1)\n",
    "        pred = None # TODO \n",
    "        loss = None # TODO: https://pytorch.org/docs/stable/generated/torch.nn.BCELoss.html \n",
    "    \n",
    "        # Backpropagation\n",
    "        loss.backward()\n",
    "        adam_optimizer.step()\n",
    "        adam_optimizer.zero_grad()\n",
    "        current_index += None # TODO\n",
    "        losses.append(float(loss.detach().numpy()))\n",
    "    \n"
   ]
  },
  {
   "cell_type": "code",
   "execution_count": 391,
   "id": "1317d2d7-c6e5-47d9-91d8-60f942c3ff50",
   "metadata": {},
   "outputs": [],
   "source": [
    "# TODO: Pokaż jak loss zmienia się w czasie"
   ]
  },
  {
   "cell_type": "code",
   "execution_count": 452,
   "id": "acfb9234-1768-4a65-ba7a-bd82f687db74",
   "metadata": {},
   "outputs": [],
   "source": [
    "# Accuracy \n",
    "# TODO: policz ile % zbioru testowego nasz model odgaduje poprawnie \n",
    "\n",
    "def accuracy(model, x_test, y_test, threshold):\n",
    "    threshold_proba = 0.5\n",
    "    correct_count = 0 \n",
    "    for i, x_single in enumerate(x_test):\n",
    "        true_y_single = y_test[i]\n",
    "        x_tensor = torch.Tensor(x_single)\n",
    "        \n",
    "        result = None # wykonaj forward pass \n",
    "        probability_of_5 = result.detach().numpy()[0]\n",
    "        if None: # TODO: jeśli prawodopodobieństwo 5tki jest wyższe niż zadany threshold oraz prawdziwa etykieta to 5 \n",
    "            correct_count += 1\n",
    "            continue \n",
    "        if None: #TODO: # TODO: jeśli prawodopodobieństwo 5tki jest niższe niż zadany threshold oraz prawdziwa etykieta jest inna niż 5 \n",
    "            correct_count += 1\n",
    "            continue     \n",
    "    return None # Zwróć % poprawnych odpowiedzi \n"
   ]
  }
 ],
 "metadata": {
  "kernelspec": {
   "display_name": "Python 3 (ipykernel)",
   "language": "python",
   "name": "python3"
  },
  "language_info": {
   "codemirror_mode": {
    "name": "ipython",
    "version": 3
   },
   "file_extension": ".py",
   "mimetype": "text/x-python",
   "name": "python",
   "nbconvert_exporter": "python",
   "pygments_lexer": "ipython3",
   "version": "3.8.10"
  }
 },
 "nbformat": 4,
 "nbformat_minor": 5
}
