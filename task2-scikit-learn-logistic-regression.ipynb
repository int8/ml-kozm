{
 "cells": [
  {
   "cell_type": "code",
   "execution_count": 40,
   "id": "abef07b0-d36a-43db-b784-f0d3cc9133f3",
   "metadata": {},
   "outputs": [],
   "source": [
    "import pandas as pd\n",
    "# Wczytajmy nasz oczyszczony dataset \"sales.csv\" \n",
    "sales = None # TODO\n"
   ]
  },
  {
   "cell_type": "code",
   "execution_count": null,
   "id": "9ca8ff2e-5082-49c6-80e5-99f5592c63ad",
   "metadata": {},
   "outputs": [],
   "source": [
    "from sklearn import linear_model\n",
    "# Utwórzmy obiekt reprezentujący nasz model regresji liniowej \n",
    "# https://scikit-learn.org/stable/modules/generated/sklearn.linear_model.LinearRegression.html#sklearn.linear_model.LinearRegression\n",
    "model = None # TODO "
   ]
  },
  {
   "cell_type": "code",
   "execution_count": 41,
   "id": "a4421190-9971-4a56-842a-92fbe3991bf8",
   "metadata": {},
   "outputs": [],
   "source": [
    "# Zapoznajmy się z metodą fit modelu Regresji Liniowej \n",
    "# https://scikit-learn.org/stable/modules/generated/sklearn.linear_model.LinearRegression.html#sklearn.linear_model.LinearRegression.fit\n",
    "klasą X = sales[['TV', 'Radio', 'Social Media', 'Influencer_numeric']]"
   ]
  },
  {
   "cell_type": "code",
   "execution_count": 42,
   "id": "3b5c7bbb-6e81-4d52-8c8f-869e31f1f393",
   "metadata": {},
   "outputs": [],
   "source": [
    "# Wybierzmy kolumny na których chcemy oprzeć naszą predykcję - zapiszmy je w X \n",
    "# A kolumnę którą predykujemy zapiszmy do Y \n",
    "X = None # TODO \n",
    "Y = None # TODO "
   ]
  },
  {
   "cell_type": "code",
   "execution_count": 43,
   "id": "7b288570-4ab8-4f51-99c9-2f8cc148d0bd",
   "metadata": {},
   "outputs": [],
   "source": [
    "fitted_model = None # TODO "
   ]
  },
  {
   "cell_type": "code",
   "execution_count": 49,
   "id": "5aac3438-71d5-4eda-994a-319f33d36f6d",
   "metadata": {},
   "outputs": [],
   "source": [
    "# Przypiszmy predykowane wartości sprzedaży do dataframe'u (utwórzmy nową kolumnę \"predicted_sales\" \n",
    "# https://pandas.pydata.org/pandas-docs/stable/reference/api/pandas.DataFrame.assign.html\n",
    "# https://scikit-learn.org/stable/modules/generated/sklearn.linear_model.LinearRegression.html#sklearn.linear_model.LinearRegression.predict\n",
    "\n",
    "# TODO "
   ]
  },
  {
   "cell_type": "code",
   "execution_count": 46,
   "id": "13d37bdd-2e02-439d-818b-f355940743cd",
   "metadata": {},
   "outputs": [
    {
     "data": {
      "text/plain": [
       "<Axes: >"
      ]
     },
     "execution_count": 46,
     "metadata": {},
     "output_type": "execute_result"
    },
    {
     "data": {
      "image/png": "[encoded data removed]",
      "text/plain": [
       "<Figure size 640x480 with 1 Axes>"
      ]
     },
     "metadata": {},
     "output_type": "display_data"
    }
   ],
   "source": [
    "# Utwórzmy pd.Series zawierającą wszystkie różnice między predykowaną sprzedażą a sprzedażą prawdziwą \n",
    "# następnie pokażmy histogram tych różnic \n",
    "\n",
    "# TODO"
   ]
  }
 ],
 "metadata": {
  "kernelspec": {
   "display_name": "Python 3 (ipykernel)",
   "language": "python",
   "name": "python3"
  },
  "language_info": {
   "codemirror_mode": {
    "name": "ipython",
    "version": 3
   },
   "file_extension": ".py",
   "mimetype": "text/x-python",
   "name": "python",
   "nbconvert_exporter": "python",
   "pygments_lexer": "ipython3",
   "version": "3.8.10"
  }
 },
 "nbformat": 4,
 "nbformat_minor": 5
}
