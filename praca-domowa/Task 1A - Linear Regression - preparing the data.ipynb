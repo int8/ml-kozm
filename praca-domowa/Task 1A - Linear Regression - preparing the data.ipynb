{
 "cells": [
  {
   "cell_type": "markdown",
   "id": "20d3add9-fb65-4261-87f0-aa38afd81d2d",
   "metadata": {},
   "source": [
    "### zadanie 1\n",
    "\n",
    "Złożyłeś podanie o pracę na stanowisko data scientist w firmie specjalizującej się w usprawnianiu kampanii reklamowych.\n",
    "\t\t\t\t\t\tTwoje pierwsze zadanie to stworzenie modelu liniowego, który przewiduje sprzedaż w oparciu o wydatki na reklamę poprzez różne kanały, takie jak telewizja, radio i internet.\n",
    "\t\t\t\t\t\t<br /><br /><br />\n",
    "\t\t\t\t\t\t<b>uwaga: zbiór danych jest eksportowany bezpośrednio z bazy danych firmy. Klient poinformował Cię, że system przeszedł przez pewne nieokreślone problemy techniczne i niektóre wiersze mogą być nieprawidłowe </b>"
   ]
  },
  {
   "cell_type": "code",
   "execution_count": 1,
   "id": "a422dc05-ab5f-4ec3-9e7f-06215d7c870b",
   "metadata": {},
   "outputs": [],
   "source": [
    "# 1. wczytaj `sales-not-clean.csv' do zmiennej 'sales' [use pandas]\n",
    "import pandas as pd \n",
    "# TODO: \n"
   ]
  },
  {
   "cell_type": "code",
   "execution_count": 2,
   "id": "2533744e-03a9-4dac-8837-8fe6343d0901",
   "metadata": {},
   "outputs": [],
   "source": [
    "\n",
    "# 2. Popatrzmy na pierwszych 10 wierzy \n",
    "# TODO: \n",
    "\n"
   ]
  },
  {
   "cell_type": "code",
   "execution_count": 3,
   "id": "31aaab4a-0d3b-44ff-86db-ae71e0f5fdf3",
   "metadata": {},
   "outputs": [],
   "source": [
    "# Wartości podane w kolumnach numerycznych mierzone są w milionach usd - dla przykładu \n",
    "# pierwszy wiersz oznacza więc to, że kampania na którą wydano 78M usd w TV około 28M w Radio, \n",
    "# 5M w social media gdzie współpracowano z Influencerami o rozmiarze \"Macro\" (oznacza to duże zasięgi) \n",
    "# przyniosła sprzedaż na poziomie 276M USD "
   ]
  },
  {
   "cell_type": "code",
   "execution_count": 4,
   "id": "662261a3-1cbe-47d9-b585-90b217f2cb4b",
   "metadata": {},
   "outputs": [],
   "source": [
    "# 3. rzućmy okiem na dystrubucje zmiennej 'Social Media' [hist?]\n",
    "# TODO \n",
    "\n",
    "\n",
    "# To co wydaje się interesujące to to, że oś współrzędnych zmiennej \"Social Media\" zawiera wartości ujemne \n",
    "# może to być dla nas hint sugerujący, że w zbiorze danych istnieją pewne obserwacje dla których \n",
    "# zmienna \"Social Media\" (budżet wydany na Social Media) jest ujemna - występują tam nienaturalne anomalie \n",
    "# będziemy wkrótce chcieli usunąć takie obserwacje z datasetu "
   ]
  },
  {
   "cell_type": "code",
   "execution_count": 5,
   "id": "c595e5ae-8fbd-489d-ba27-844cc9da24d2",
   "metadata": {},
   "outputs": [],
   "source": [
    "# 4. rzućmy okiem na dystrubucje pozostałych zmiennych TV / Radio i Sales \n",
    "\n",
    "# TV:\n",
    "\n",
    "# Widzisz coś interesującego? (podobne wnioski jak wyżej) "
   ]
  },
  {
   "cell_type": "code",
   "execution_count": 6,
   "id": "23ee8ff6-7ee2-4975-a737-e86145c33960",
   "metadata": {},
   "outputs": [],
   "source": [
    "# Radio:\n",
    "#TODO \n",
    "\n",
    "# Widzisz coś interesującego? (podobne wnioski jak wyżej) "
   ]
  },
  {
   "cell_type": "code",
   "execution_count": 7,
   "id": "53580aa5-fe81-48ff-8e99-abe38f00376c",
   "metadata": {},
   "outputs": [],
   "source": [
    "# Sales: \n",
    "# TODO \n",
    "\n",
    "# Widzisz coś interesującego? \n",
    "# (podobne wnioski jak wyżej - tutaj mamy mały słupek zerowych wartośc, które zdają się być nienaturalne) "
   ]
  },
  {
   "cell_type": "code",
   "execution_count": null,
   "id": "a149e300-e24e-4a65-a376-da98438f6d7e",
   "metadata": {},
   "outputs": [],
   "source": [
    "is_row_positive = (sales[['TV', 'Radio', 'Social Media', 'Sales']] > 0).all(axis=1)\n",
    "# powyższy wektor (pd.Series) zawiera informacje o tym czy każda kolumna w danym wierszu jest dodatnia\n",
    "print(f\"Istnieją {(is_row_positive == False).sum()} wiersze które zawierają ujemne wartości\")"
   ]
  },
  {
   "cell_type": "code",
   "execution_count": null,
   "id": "3c63f15b-085a-4cb4-b084-0f722cde16d4",
   "metadata": {},
   "outputs": [],
   "source": [
    "# 5. Pozbądźmy się znalezionych anomalii \n",
    "sales = sales # TODO użyj binarnego wektora is_row_positive aby usunąć błedne dane z sales "
   ]
  },
  {
   "cell_type": "code",
   "execution_count": null,
   "id": "0a718203-2fb5-4dd4-9979-80366b23cc2f",
   "metadata": {},
   "outputs": [],
   "source": [
    "# 6. zmapujemy kategoryczną zmienną Influencer do wartości numerycznej [Nano = 1, Micro = 2, Macro = 3, Mega = 4]\n",
    "# Użyjmy funkcji map i zaaplikujmy poniższą funkcję influencer2numeric(category)\n",
    "\n",
    "def influencer2numeric(category:str) -> int:\n",
    "    if category == 'Nano':\n",
    "        return 1 \n",
    "    elif category == 'Micro':\n",
    "        return 2 \n",
    "    elif category == 'Macro':\n",
    "        return 3\n",
    "    elif category == 'Mega':\n",
    "        return 4         \n",
    "\n",
    "# assign dodaje kolumnę do df \n",
    "# Jeśli preferujesz alternatywne metody dodawania kolumny do DF - nic nie stoi na przeszkodzie by jej użyć \n",
    "sales = sales.assign(\n",
    "    InfluencerNumeric = sales.Influencer.map(change_this_code=None) # wypełnij map odpowiednią wartością \n",
    ")\n"
   ]
  },
  {
   "cell_type": "code",
   "execution_count": null,
   "id": "1cbe4305-3d91-49a5-8712-cebf9e020bbf",
   "metadata": {},
   "outputs": [],
   "source": [
    "# 7. usuńmy starą zmienna \"Influencer\"  [https://pandas.pydata.org/docs/reference/api/pandas.DataFrame.drop.html]"
   ]
  },
  {
   "cell_type": "code",
   "execution_count": 1,
   "id": "f938020d-6c65-4837-8468-8bfc5bbdfd8b",
   "metadata": {},
   "outputs": [],
   "source": [
    "# 8. Zapiszmy wynikowy dataframe jako \"sales.csv\" (użyj parametru index=False aby nie zapisać kolumny indeksu)"
   ]
  }
 ],
 "metadata": {
  "kernelspec": {
   "display_name": "Python 3 (ipykernel)",
   "language": "python",
   "name": "python3"
  },
  "language_info": {
   "codemirror_mode": {
    "name": "ipython",
    "version": 3
   },
   "file_extension": ".py",
   "mimetype": "text/x-python",
   "name": "python",
   "nbconvert_exporter": "python",
   "pygments_lexer": "ipython3",
   "version": "3.8.10"
  }
 },
 "nbformat": 4,
 "nbformat_minor": 5
}
