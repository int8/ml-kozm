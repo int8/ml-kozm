{
 "cells": [
  {
   "cell_type": "markdown",
   "id": "4558c3ce-5286-4e99-8b7e-32b2bfae3cbd",
   "metadata": {},
   "source": [
    "### zadanie 1 - ciąg dalszy \n",
    "\n",
    "Złożyłeś podanie o pracę na stanowisko data scientist w firmie specjalizującej się w usprawnianiu kampanii reklamowych.\n",
    "\t\t\t\t\t\tTwoje pierwsze zadanie to stworzenie modelu liniowego, który przewiduje sprzedaż w oparciu o wydatki na reklamę poprzez różne kanały, takie jak telewizja, radio i internet.\n",
    "\t\t\t\t\t\t<br /><br /><br />\n",
    "\t\t\t\t\t\t<b>uwaga: zbiór danych jest eksportowany bezpośrednio z bazy danych firmy. Klient poinformował Cię, że system przeszedł przez pewne nieokreślone problemy techniczne i niektóre wiersze mogą być nieprawidłowe </b>\n",
    "\n",
    "[part II]\n",
    "\n"
   ]
  },
  {
   "cell_type": "code",
   "execution_count": 3,
   "id": "684fe7d9-07a7-4b2e-ab1e-a6bc36541c08",
   "metadata": {},
   "outputs": [],
   "source": [
    "import pandas as pd\n",
    "# Wczytajmy nasz oczyszczony dataset \"sales.csv\" \n",
    "sales = None # TODO "
   ]
  },
  {
   "cell_type": "code",
   "execution_count": null,
   "id": "25bb8c98-d52c-4385-8c72-8e7024897d79",
   "metadata": {},
   "outputs": [],
   "source": [
    "# Podzielmy nasz zbiór sales na zbiór treningowy i testowy \n",
    "# (zbiór testowy powinien zawierać 20% wszystkich obserwacji, zbiór treningowy 80%) \n",
    "# dopasuj więc prawidłową wartość parametru test_size\n",
    "# hint: https://scikit-learn.org/stable/modules/generated/sklearn.model_selection.train_test_split.html\n",
    "\n",
    "from sklearn.model_selection import train_test_split\n",
    "train_df, test_df = None, None \n",
    "\n",
    "# od tego momentu nie używamy już zbioru testowego, odkładamy go na bok - skorzystamy z niego w momencie \n",
    "# oceniania modelu po wytrenowaniu go na zbiorze treningowym "
   ]
  },
  {
   "cell_type": "code",
   "execution_count": null,
   "id": "c93a01e8-a79b-461d-b675-0615d3f9fcd1",
   "metadata": {},
   "outputs": [],
   "source": [
    "assert len(test_df) == 910 # Twój zbiór treningowy powinien zawierać 910 elementów (pod warunkiem poprawnego wyczyszczenia danych) "
   ]
  },
  {
   "cell_type": "code",
   "execution_count": null,
   "id": "9ca8ff2e-5082-49c6-80e5-99f5592c63ad",
   "metadata": {},
   "outputs": [],
   "source": [
    "from sklearn import linear_model\n",
    "# Utwórzmy obiekt reprezentujący kinstancję lasy modelu regresji liniowej \n",
    "# https://scikit-learn.org/stable/modules/generated/sklearn.linear_model.LinearRegression.html#sklearn.linear_model.LinearRegression\n",
    "model = None  # TODO: defaultowe parametry będą tutaj OK "
   ]
  },
  {
   "cell_type": "code",
   "execution_count": 1,
   "id": "a4421190-9971-4a56-842a-92fbe3991bf8",
   "metadata": {},
   "outputs": [],
   "source": [
    "# Zapoznajmy się z metodą fit modelu Regresji Liniowej \n",
    "# https://scikit-learn.org/stable/modules/generated/sklearn.linear_model.LinearRegression.html#sklearn.linear_model.LinearRegression.fit\n",
    "# Metoda fit to metoda ucząca (aka training) - \"fit\" jak dopasowanie modelu do danych "
   ]
  },
  {
   "cell_type": "code",
   "execution_count": null,
   "id": "3b5c7bbb-6e81-4d52-8c8f-869e31f1f393",
   "metadata": {},
   "outputs": [],
   "source": [
    "# Wybierzmy kolumny na których chcemy oprzeć naszą predykcję - zapiszmy je w X \n",
    "# W naszym wypadku do X trafią wszystkie kolumy zbioru treningowego oprócz \"Sales\" oraz \"Influencer\" - w poprzednim zadaniu \n",
    "# zamieniliśmy Influencer na InfluencerNumeric i to tej kolumny chcemu tu użyć \n",
    "\n",
    "X = train_df[['Radio', 'TV', 'Social Media', 'InfluencerNumeric']] \n",
    "\n",
    "# Kolumnę którą predykujemy zapiszmy do Y \n",
    "Y = None # TODO: Predykujemy Sprzedaż "
   ]
  },
  {
   "cell_type": "code",
   "execution_count": null,
   "id": "d445a9a3-94da-4b88-bba9-d93b6b99b812",
   "metadata": {},
   "outputs": [],
   "source": [
    "assert Y.name == 'Sales'\n",
    "assert set(X.columns.tolist()) == set(['Radio', 'TV', 'Social Media', 'InfluencerNumeric'])"
   ]
  },
  {
   "cell_type": "code",
   "execution_count": null,
   "id": "7b288570-4ab8-4f51-99c9-2f8cc148d0bd",
   "metadata": {},
   "outputs": [],
   "source": [
    "fitted_model = None # TODO Zaaplikujmy metodę fit na naszych danych X, Y \n",
    "# To uruchomi bardzo krótko trwającą procedurę uczenia parametrów \n",
    "# fitted_model zawiera nauczony model \n",
    "# W przeciwieństwie do sieci neurnowej - model liniowy ma rozwiązania analityczne -\n",
    "# tzn istnieje otwarty wzór na wartośći parametrów dla danego zestawu danych treningowych \n"
   ]
  },
  {
   "cell_type": "code",
   "execution_count": null,
   "id": "5aac3438-71d5-4eda-994a-319f33d36f6d",
   "metadata": {},
   "outputs": [],
   "source": [
    "# Chcemy teraz wytestować nasz nauczony model \n",
    "# wracamy więc do test_df \n",
    "\n",
    "# Przypiszmy predykowane wartości sprzedaży do dataframe'u test_df (utwórzmy nową kolumnę \"predicted_sales\" )\n",
    "# https://pandas.pydata.org/pandas-docs/stable/reference/api/pandas.DataFrame.assign.html\n",
    "# https://scikit-learn.org/stable/modules/generated/sklearn.linear_model.LinearRegression.html#sklearn.linear_model.LinearRegression.predict\n",
    "\n",
    "\n",
    "test_X = test_df[['Radio', 'TV', 'Social Media', 'InfluencerNumeric']]\n",
    "\n",
    "\n",
    "predicted_sales = None  # TODO - użyj metody predict na test_X i przypisz wynik to predicted_sales \n",
    "test_df = test_df.assign(\n",
    "    predicted_sales = predicted_sales \n",
    ")\n"
   ]
  },
  {
   "cell_type": "code",
   "execution_count": null,
   "id": "13d37bdd-2e02-439d-818b-f355940743cd",
   "metadata": {},
   "outputs": [],
   "source": [
    "# Utwórzmy pd.Series zawierającą wszystkie różnice między predykowaną sprzedażą a sprzedażą prawdziwą \n",
    "# następnie pokażmy histogram tych różnic \n",
    "\n",
    "differences = (test_df.predicted_sales - test_df.Sales)\n",
    "differences.hist(bins=50)"
   ]
  },
  {
   "cell_type": "code",
   "execution_count": null,
   "id": "5d3fbc30-2071-4967-8511-a3e519d75a25",
   "metadata": {},
   "outputs": [],
   "source": [
    "# Wyprodukujmy też scatter plot który pokazuje dopasowanie względem y = x \n",
    "from matplotlib import pyplot as plt \n",
    "plt.figure(figsize=(16,12))\n",
    "ax = test_df.plot(x='Sales', y='predicted_sales', kind='scatter', marker='.', label='predicted vs actual')\n",
    "ax.axline((0,0), slope=1, color='red', label = 'dopasowanie idealne y = x')\n",
    "plt.legend()"
   ]
  },
  {
   "cell_type": "code",
   "execution_count": null,
   "id": "a54f0873-ffff-484e-948e-f8169a7ec0ff",
   "metadata": {},
   "outputs": [],
   "source": [
    "# wykonajmy teraz predykcje sprzedaży dla nowej kampani reklamowej \n",
    "# na którą przeznaczono następujący budżet:\n",
    "\n",
    "# Radio: 50M \n",
    "# TV: 10M \n",
    "# Social Media: 4M (gdzie współpracowano z Mega influencerem - InfluencerNumeric = 4.0)\n",
    "\n",
    "# Musimy skonstruować kompatybilny input \n",
    "# Naszym inputem był dataframe - utwórzmy więc sobie pusty DF o strukturze jak nasza \n",
    "# poniżej funkcja z której skorzystasz\n",
    "\n",
    "\n",
    "# Nasza funkcja przyjmuje na wejściu \"influencer_numeric\" o wartościach 1,2,3,4 - \n",
    "# oznaczają one wielkość influencera od \"nano\" (1) fo \"mega\" (4) \n",
    "\n",
    "def get_single_input_vector(radio: float, tv: float, social_media: float, influencer_numeric: float):\n",
    "    input_df = pd.DataFrame(columns=['Radio', 'TV','Social Media', 'InfluencerNumeric'])\n",
    "    return input_df.assign(\n",
    "        **{\n",
    "            \"Social Media\": [social_media], 'Radio': [radio], 'TV': [tv],  'InfluencerNumeric': [influencer_numeric]\n",
    "        }\n",
    "    )    \n",
    "\n",
    "# predykcja sprzedaży dla budżetu 50m na reklamę w radio, 20m w tv, 4m w social media we współpracy z mega influencerami \n",
    "fitted_model.predict(\n",
    "    get_single_input_vector(radio=50,tv=20, social_media = 4, influencer_numeric=4.0)\n",
    ")"
   ]
  },
  {
   "cell_type": "code",
   "execution_count": null,
   "id": "eb984165-fd79-447c-ad27-9e688bd99300",
   "metadata": {},
   "outputs": [],
   "source": [
    "# Wypróbuj predykcję dla innych wartości budżetow:\n",
    "\n",
    "\n",
    "# skopiuj kod poniżej i poeksperymentuj z inputem \n",
    "# fitted_model.predict(\n",
    "#    get_single_input_vector(radio=50,tv=10, social_media = 4, influencer_numeric=4.0)\n",
    "#) \n",
    "\n",
    "# TODO \n",
    "\n",
    "\n",
    "# TODO: Spróbujmy ocenić zmiana jakiego parametru powoduje \n",
    "# największa zmianę w przewidywanej sprzedaży - pooglądaj jak zmieniają się wyniki predykowanej \n",
    "# sprzedaży kiedy zmieniasz poszczególne parametry - do jakich wniosków dochodzisz ? \n",
    "\n",
    "\n"
   ]
  },
  {
   "cell_type": "code",
   "execution_count": null,
   "id": "4c2cb352-d765-466d-b99b-cd05bc792f78",
   "metadata": {},
   "outputs": [],
   "source": [
    "# Jeśli już udało się odgadnąć najbardziej istotną cechę która wpływa na sprzedaż \n",
    "# możemy tę samą informację zobaczyć w wartościach parametrów modelu:\n",
    "\n",
    "# parametr (waga) budżetu wydane na TV jest zdecydowanie wyższa niż pozostałe (które są bliskie zeru) \n",
    "pd.Series(\n",
    "    dict(zip(fitted_model.feature_names_in_, fitted_model.coef_))\n",
    ").plot(kind='barh')\n"
   ]
  }
 ],
 "metadata": {
  "kernelspec": {
   "display_name": "Python 3 (ipykernel)",
   "language": "python",
   "name": "python3"
  },
  "language_info": {
   "codemirror_mode": {
    "name": "ipython",
    "version": 3
   },
   "file_extension": ".py",
   "mimetype": "text/x-python",
   "name": "python",
   "nbconvert_exporter": "python",
   "pygments_lexer": "ipython3",
   "version": "3.8.10"
  }
 },
 "nbformat": 4,
 "nbformat_minor": 5
}
