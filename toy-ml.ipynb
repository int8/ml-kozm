{
 "cells": [
  {
   "cell_type": "code",
   "execution_count": null,
   "id": "21bad2e4-d0eb-4e6d-9c2e-876a1770da86",
   "metadata": {},
   "outputs": [],
   "source": [
    "import pandas as pd \n",
    "# 1. wczytajmy data frame z danymi \"mieszkania.csv\" (via pandas)\n",
    "# TWÓJ KOD: "
   ]
  },
  {
   "cell_type": "code",
   "execution_count": null,
   "id": "d1c6425c-86d9-4f19-91b4-93853c3a052c",
   "metadata": {},
   "outputs": [],
   "source": [
    "# 2. rzućmy okiem na pierwszych 10 wierszy dataframe'u [https://pandas.pydata.org/docs/reference/api/pandas.DataFrame.head.html]\n",
    "# TWÓJ KOD: "
   ]
  },
  {
   "cell_type": "code",
   "execution_count": null,
   "id": "c2aa94cc-d7ba-46bb-a873-c261c6bb398c",
   "metadata": {},
   "outputs": [],
   "source": [
    "# Rzućmy okiem na rozkłady (histogramy) ceny [https://pandas.pydata.org/docs/reference/api/pandas.DataFrame.hist.html] \n",
    "# TWÓJ KOD:"
   ]
  },
  {
   "cell_type": "code",
   "execution_count": null,
   "id": "dcc183c6-fa9e-430f-b874-d83ba86af7ec",
   "metadata": {},
   "outputs": [],
   "source": [
    "# 4. W jaki sposób cena zależy od powierzchni [https://pandas.pydata.org/docs/reference/api/pandas.DataFrame.plot.html] \n",
    "# użyj parametrów `marker` i `kind`\n",
    "# TWÓJ KOD:"
   ]
  },
  {
   "cell_type": "markdown",
   "id": "92aff714-95ca-4493-bab9-4ab74cf656d2",
   "metadata": {},
   "source": [
    "### 3. Definicja modelu \n",
    "#### Uproszczony \"zabawkowy\" model liniowy \n",
    "$$\n",
    "cena = w_{\\text{wiek}} * x_{\\text{wiek}} + w_{\\text{powierzchnia}} * x_{\\text{powierzchnia}}\n",
    "$$"
   ]
  },
  {
   "cell_type": "code",
   "execution_count": null,
   "id": "dd562904-6234-4440-9c25-0ee1f96d67dc",
   "metadata": {},
   "outputs": [],
   "source": [
    "# Zdefiniujmy Grid parametrów (zakładamy wiedzę domenową) \n",
    "\n",
    "from tqdm import tqdm \n",
    "import matplotlib.pyplot as plt\n",
    "\n",
    "GRID = {\n",
    "    'powierzchnia': list(range(8000, 25000, 2000)), \n",
    "    'wiek': list(range(-25000, 1000, 500))\n",
    "}\n",
    "\n",
    "def plot_grid():\n",
    "    points = []\n",
    "    \n",
    "    for i, w_wiek_i in enumerate(GRID['wiek']):\n",
    "        for j, w_powierzchnia_j in enumerate(GRID['powierzchnia']):            \n",
    "            # TODO: \n",
    "            pass     \n",
    "\n",
    "    x = [point[0] for point in points]\n",
    "    y = [point[1] for point in points]\n",
    "    plt.figure(figsize=(10,5))\n",
    "\n",
    "    plt.scatter(x, y, marker='.')\n",
    "\n",
    "    plt.xlabel('parametr wiek')\n",
    "    plt.ylabel('parametr powierzchnia')\n"
   ]
  },
  {
   "cell_type": "code",
   "execution_count": null,
   "id": "0fb01400-cab2-4283-8384-ee35c1a6592e",
   "metadata": {},
   "outputs": [],
   "source": [
    "plot_grid()"
   ]
  },
  {
   "cell_type": "code",
   "execution_count": null,
   "id": "96daa34f-8535-4d48-95b3-0ff47b3cd44c",
   "metadata": {},
   "outputs": [],
   "source": [
    "from typing import List \n",
    "\n",
    "def compute_mse(predicted_y_cena: pd.Series, y_cena: pd.Series) -> float:\n",
    "    # TODO: \n",
    "    \n",
    "class ToyLinearModel:\n",
    "\n",
    "    def __init__(self, weight_wiek = 0, weight_powierzchnia = 0):\n",
    "        self.weight_wiek = weight_wiek \n",
    "        self.weight_powierzchnia = weight_powierzchnia\n",
    "\n",
    "    def predict(self, wiek: pd.Series, powierzchnia: pd.Series) -> pd.Series:\n",
    "        # TODO \n",
    "\n",
    "    def train(self, x_wiek: pd.Series, x_powierzchnia: pd.Series, y_cena: pd.Series):\n",
    "        assert len(x_wiek) == len(x_powierzchnia) == len(y_cena)\n",
    "        best_mse = np.inf\n",
    "        best_weight_wiek = 0 \n",
    "        best_weight_powierzchnia = 0\n",
    "        mses = []\n",
    "        for weight_powierzchnia in tqdm(GRID['powierzchnia']):\n",
    "            for weight_wiek in GRID['wiek']:\n",
    "                self.weight_wiek = weight_wiek\n",
    "                self.weight_powierzchnia = weight_powierzchnia\n",
    "                predicted_y_cena = 0 # TODO \n",
    "                current_mse = 0 # TODO \n",
    "                if best_mse > current_mse:\n",
    "                    best_weight_wiek = 0 # TODO \n",
    "                    best_weight_powierzchnia = 0 # TODO \n",
    "                    best_mse = 0 # TODO\n",
    "                    mses.append(best_mse)\n",
    "        print(f\"Found best params to be {best_weight_wiek=} and {best_weight_powierzchnia=}\")\n",
    "        self.weight_wiek = best_weight_wiek\n",
    "        self.weight_powierzchnia = best_weight_powierzchnia\n",
    "        return mses \n",
    "        "
   ]
  },
  {
   "cell_type": "code",
   "execution_count": null,
   "id": "b9a8cbf6-d0bc-4da8-8050-d909085b2707",
   "metadata": {},
   "outputs": [],
   "source": [
    "model = ToyLinearModel()"
   ]
  },
  {
   "cell_type": "code",
   "execution_count": null,
   "id": "067dee4f-26f2-401b-9c73-4782172b8301",
   "metadata": {},
   "outputs": [],
   "source": [
    "mse_list = model.train(house_prices.wiek, house_prices.powierzchnia, house_prices.cena_pln)"
   ]
  },
  {
   "cell_type": "code",
   "execution_count": null,
   "id": "bf7cb20d-14d1-4cea-9e59-89ff2002f70a",
   "metadata": {},
   "outputs": [],
   "source": [
    "# Zobaczmy jak wyglądał postęp minimalizowania mse (plot mse_list) \n",
    "# TODO: "
   ]
  },
  {
   "cell_type": "code",
   "execution_count": null,
   "id": "79331a87-d96a-470d-83a2-f96b456eab80",
   "metadata": {},
   "outputs": [],
   "source": [
    "predicted_prices = house_prices.apply(lambda x : model.predict(x.wiek, x.powierzchnia), axis=1)\n",
    "# dodajmy kolumne \"predykowana_cena_pln\" [https://pandas.pydata.org/pandas-docs/stable/reference/api/pandas.DataFrame.assign.html]\n",
    "# TODO: "
   ]
  },
  {
   "cell_type": "code",
   "execution_count": null,
   "id": "ca81eabb-050e-4d9a-87a2-f14bcebb9ad4",
   "metadata": {},
   "outputs": [],
   "source": [
    "# Zobaczmy jak blisko jesteśmy \"idealnego\" dopasowania\n",
    "ax = house_prices.plot(your='code') # TODO  \n",
    "ax.axline((0,0), slope=1, color='black')"
   ]
  },
  {
   "cell_type": "code",
   "execution_count": null,
   "id": "480d738b-30f8-4281-9daf-26977a59e439",
   "metadata": {},
   "outputs": [],
   "source": [
    "# Wyznaczmy predykowaną cenę 10 letniego, 50 metrowego mieszkania\n",
    "# TODO: "
   ]
  }
 ],
 "metadata": {
  "kernelspec": {
   "display_name": "Python 3 (ipykernel)",
   "language": "python",
   "name": "python3"
  },
  "language_info": {
   "codemirror_mode": {
    "name": "ipython",
    "version": 3
   },
   "file_extension": ".py",
   "mimetype": "text/x-python",
   "name": "python",
   "nbconvert_exporter": "python",
   "pygments_lexer": "ipython3",
   "version": "3.8.10"
  }
 },
 "nbformat": 4,
 "nbformat_minor": 5
}
